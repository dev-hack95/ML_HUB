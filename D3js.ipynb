{
 "cells": [
  {
   "cell_type": "code",
   "execution_count": 1,
   "id": "05a69a35",
   "metadata": {},
   "outputs": [],
   "source": [
    "from IPython.display import Javascript"
   ]
  },
  {
   "cell_type": "code",
   "execution_count": 2,
   "id": "d165c378",
   "metadata": {},
   "outputs": [
    {
     "data": {
      "application/javascript": [
       "require.config({\n",
       "    paths: {\n",
       "        d3: 'https://d3js.org/d3.v7.min'\n",
       "    }\n",
       "});\n"
      ],
      "text/plain": [
       "<IPython.core.display.Javascript object>"
      ]
     },
     "metadata": {},
     "output_type": "display_data"
    }
   ],
   "source": [
    "%%javascript\n",
    "require.config({\n",
    "    paths: {\n",
    "        d3: 'https://d3js.org/d3.v7.min'\n",
    "    }\n",
    "});"
   ]
  },
  {
   "cell_type": "code",
   "execution_count": 3,
   "id": "2dfd716c",
   "metadata": {},
   "outputs": [
    {
     "data": {
      "application/javascript": [
       "(function(element) {\n",
       "    require(['d3'], function(d3) {\n",
       "        d3.select(element.get(0)).append('text').text('hello world');\n",
       "    })\n",
       "})(element);\n"
      ],
      "text/plain": [
       "<IPython.core.display.Javascript object>"
      ]
     },
     "metadata": {},
     "output_type": "display_data"
    }
   ],
   "source": [
    "%%javascript\n",
    "(function(element) {\n",
    "    require(['d3'], function(d3) {\n",
    "        d3.select(element.get(0)).append('text').text('hello world');\n",
    "    })\n",
    "})(element);"
   ]
  },
  {
   "cell_type": "code",
   "execution_count": 4,
   "id": "deaf4d71",
   "metadata": {},
   "outputs": [
    {
     "data": {
      "application/javascript": [
       "(function(element) {\n",
       "    require(['d3'], function(d3) {\n",
       "        console.log(d3);\n",
       "    })\n",
       "})(element);\n"
      ],
      "text/plain": [
       "<IPython.core.display.Javascript object>"
      ]
     },
     "metadata": {},
     "output_type": "display_data"
    }
   ],
   "source": [
    "%%javascript\n",
    "(function(element) {\n",
    "    require(['d3'], function(d3) {\n",
    "        console.log(d3);\n",
    "    })\n",
    "})(element);"
   ]
  },
  {
   "cell_type": "code",
   "execution_count": 5,
   "id": "744063e0",
   "metadata": {},
   "outputs": [
    {
     "data": {
      "application/javascript": [
       "(function(element) {\n",
       "    require(['d3'], function(d3) {\n",
       "        d3.select(element.get(0)).append('svg')\n",
       "            .append('rect')\n",
       "            .attr('width', 90)\n",
       "            .attr('height', 50)\n",
       "            .attr('fill', 'black')\n",
       "            .on('mouseover', function(){d3.select(this).attr('fill', 'red')})\n",
       "            .on('mouseout', function(){d3.select(this).attr('fill', 'black')});\n",
       "    })\n",
       "})(element);\n"
      ],
      "text/plain": [
       "<IPython.core.display.Javascript object>"
      ]
     },
     "metadata": {},
     "output_type": "display_data"
    }
   ],
   "source": [
    "%%javascript\n",
    "(function(element) {\n",
    "    require(['d3'], function(d3) {\n",
    "        d3.select(element.get(0)).append('svg')\n",
    "            .append('rect')\n",
    "            .attr('width', 90)\n",
    "            .attr('height', 50)\n",
    "            .attr('fill', 'black')\n",
    "            .on('mouseover', function(){d3.select(this).attr('fill', 'red')})\n",
    "            .on('mouseout', function(){d3.select(this).attr('fill', 'black')});\n",
    "    })\n",
    "})(element);"
   ]
  },
  {
   "cell_type": "code",
   "execution_count": 6,
   "id": "46838e3f",
   "metadata": {},
   "outputs": [],
   "source": [
    "from IPython.display import Javascript\n",
    "\n",
    "def draw_random_circle(data, width=500, height=200, transtion_speed = 500):\n",
    "    js_code = \"\"\"\n",
    "    (function(element) {{\n",
    "        require(['d3'], function(d3) {{\n",
    "            const data = {}\n",
    "            const svg = d3.select(element.get(0)).append('svg')\n",
    "                  .attr('width', {})\n",
    "                  .attr('height', {});\n",
    "            svg.selectAll('circle')\n",
    "                  .data(data)\n",
    "                  .enter()\n",
    "                  .append('circle')\n",
    "                  .attr(\"cx\", function(d, i) {{return 40 * (i + 1);}})\n",
    "                  .attr(\"cy\", function(d, i) {{return 100 + 30 * (i % 3 - 1);}})\n",
    "                  .style(\"fill\", \"skyblue\")\n",
    "                  .transition().duration({})\n",
    "                  .attr(\"r\", function(d) {{return 2*d;}});\n",
    "        }})\n",
    "    }})(element);\n",
    "    \"\"\".format(data, width, height, transtion_speed)\n",
    "    return Javascript(js_code)"
   ]
  },
  {
   "cell_type": "code",
   "execution_count": 7,
   "id": "e9ab4af9",
   "metadata": {},
   "outputs": [
    {
     "data": {
      "application/javascript": [
       "\n",
       "    (function(element) {\n",
       "        require(['d3'], function(d3) {\n",
       "            const data = [1, 2, 4, 8, 16, 8, 4, 2, 1]\n",
       "            const svg = d3.select(element.get(0)).append('svg')\n",
       "                  .attr('width', 400)\n",
       "                  .attr('height', 200);\n",
       "            svg.selectAll('circle')\n",
       "                  .data(data)\n",
       "                  .enter()\n",
       "                  .append('circle')\n",
       "                  .attr(\"cx\", function(d, i) {return 40 * (i + 1);})\n",
       "                  .attr(\"cy\", function(d, i) {return 100 + 30 * (i % 3 - 1);})\n",
       "                  .style(\"fill\", \"skyblue\")\n",
       "                  .transition().duration(500)\n",
       "                  .attr(\"r\", function(d) {return 2*d;});\n",
       "        })\n",
       "    })(element);\n",
       "    "
      ],
      "text/plain": [
       "<IPython.core.display.Javascript object>"
      ]
     },
     "execution_count": 7,
     "metadata": {},
     "output_type": "execute_result"
    }
   ],
   "source": [
    "data = [1, 2, 4, 8, 16, 8, 4, 2, 1]\n",
    "draw_random_circle(data, width=400, height=200)"
   ]
  },
  {
   "cell_type": "code",
   "execution_count": 8,
   "id": "61b6a716",
   "metadata": {},
   "outputs": [
    {
     "data": {
      "application/javascript": [
       "\n",
       "    (function(element) {\n",
       "        require(['d3'], function(d3) {\n",
       "            const data = [1, 2, 4, 8, 16, 8, 4, 2, 1]\n",
       "            const svg = d3.select(element.get(0)).append('svg')\n",
       "                  .attr('width', 400)\n",
       "                  .attr('height', 200);\n",
       "            svg.selectAll('circle')\n",
       "                  .data(data)\n",
       "                  .enter()\n",
       "                  .append('circle')\n",
       "                  .attr(\"cx\", function(d, i) {return 40 * (i + 1);})\n",
       "                  .attr(\"cy\", function(d, i) {return 100 + 30 * (i % 3 - 1);})\n",
       "                  .style(\"fill\", \"skyblue\")\n",
       "                  .transition().duration(500)\n",
       "                  .attr(\"r\", function(d) {return 2*d;});\n",
       "        })\n",
       "    })(element);\n",
       "    "
      ],
      "text/plain": [
       "<IPython.core.display.Javascript object>"
      ]
     },
     "execution_count": 8,
     "metadata": {},
     "output_type": "execute_result"
    }
   ],
   "source": [
    "data = [1, 2, 4, 8, 16, 8, 4, 2, 1]\n",
    "draw_random_circle(data, width=400, height=200)"
   ]
  },
  {
   "cell_type": "code",
   "execution_count": 36,
   "id": "5f2408ac",
   "metadata": {},
   "outputs": [
    {
     "data": {
      "application/javascript": [
       "(function(element) {\n",
       "    require(['d3'], function(d3) {\n",
       "        const margin = {top: 60, right: 60, bottom: 70, left: 90},\n",
       "              width = 960 - margin.left - margin.right,\n",
       "              height = 400 - margin.top - margin.bottom;\n",
       "        \n",
       "        const svg = d3.select(element.get(0))\n",
       "              .append(\"svg\")\n",
       "              .attr(\"width\", width + margin.left + margin.right)\n",
       "              .attr(\"height\", height + margin.top + margin.bottom)\n",
       "              .append(\"g\")\n",
       "              .attr(\"transform\", `translate(${margin.left},${margin.top})`);\n",
       "        const data = [{'X': 'United States', 'Y': 12394},\n",
       "                      {'X': 'Russia', 'Y': 6148},\n",
       "                      {'X': 'Germany (FRG)', 'Y': 1653},\n",
       "                      {'X': 'France', 'Y': 2162},\n",
       "                      {'X': 'United Kingdom', 'Y': 1214},\n",
       "                      {'X': 'China', 'Y': 1131},\n",
       "                      {'X': 'Spain', 'Y': 814},\n",
       "                      {'X': 'Netherlands', 'Y': 1167},\n",
       "                      {'X': 'Italy', 'Y': 660},\n",
       "                      {'X': 'Israel', 'Y': 1263}]\n",
       "\n",
       "        \n",
       "        const x = d3.scaleLinear()\n",
       "            .domain([0, d3.extent(data, function(d) { return d.Y})[1]])\n",
       "            .range([ 0, width]);\n",
       "        svg.append(\"g\")\n",
       "                .attr(\"transform\", `translate(0, ${height})`)\n",
       "                .call(d3.axisBottom(x))\n",
       "                .selectAll(\"text\")\n",
       "                .attr(\"transform\", \"translate(-10,0)rotate(-45)\")\n",
       "                .style(\"text-anchor\", \"end\");\n",
       "            \n",
       "        const y = d3.scaleBand()\n",
       "            .range([ 0, height ])\n",
       "            .domain(data.map(d => d.X))\n",
       "            .padding(.1);\n",
       "            svg.append(\"g\")\n",
       "                .call(d3.axisLeft(y))\n",
       "            \n",
       "        svg.selectAll(\"Rectangle\")\n",
       "                .data(data)\n",
       "                .join(\"rect\")\n",
       "                .attr(\"x\", x(0) )\n",
       "                .attr(\"y\", d => y(d.X))\n",
       "                .attr(\"width\", d => x(d.Y))\n",
       "                .attr(\"height\", y.bandwidth())\n",
       "                .attr(\"fill\", \"skyblue\")\n",
       "    })\n",
       "})(element);\n"
      ],
      "text/plain": [
       "<IPython.core.display.Javascript object>"
      ]
     },
     "metadata": {},
     "output_type": "display_data"
    }
   ],
   "source": [
    "%%javascript\n",
    "(function(element) {\n",
    "    require(['d3'], function(d3) {\n",
    "        const margin = {top: 60, right: 60, bottom: 70, left: 90},\n",
    "              width = 960 - margin.left - margin.right,\n",
    "              height = 400 - margin.top - margin.bottom;\n",
    "        \n",
    "        const svg = d3.select(element.get(0))\n",
    "              .append(\"svg\")\n",
    "              .attr(\"width\", width + margin.left + margin.right)\n",
    "              .attr(\"height\", height + margin.top + margin.bottom)\n",
    "              .append(\"g\")\n",
    "              .attr(\"transform\", `translate(${margin.left},${margin.top})`);\n",
    "        const data = [{'X': 'United States', 'Y': 12394},\n",
    "                      {'X': 'Russia', 'Y': 6148},\n",
    "                      {'X': 'Germany (FRG)', 'Y': 1653},\n",
    "                      {'X': 'France', 'Y': 2162},\n",
    "                      {'X': 'United Kingdom', 'Y': 1214},\n",
    "                      {'X': 'China', 'Y': 1131},\n",
    "                      {'X': 'Spain', 'Y': 814},\n",
    "                      {'X': 'Netherlands', 'Y': 1167},\n",
    "                      {'X': 'Italy', 'Y': 660},\n",
    "                      {'X': 'Israel', 'Y': 1263}]\n",
    "\n",
    "        \n",
    "        const x = d3.scaleLinear()\n",
    "            .domain([0, d3.extent(data, function(d) { return d.Y})[1]])\n",
    "            .range([ 0, width]);\n",
    "        svg.append(\"g\")\n",
    "                .attr(\"transform\", `translate(0, ${height})`)\n",
    "                .call(d3.axisBottom(x))\n",
    "                .selectAll(\"text\")\n",
    "                .attr(\"transform\", \"translate(-10,0)rotate(-45)\")\n",
    "                .style(\"text-anchor\", \"end\");\n",
    "            \n",
    "        const y = d3.scaleBand()\n",
    "            .range([ 0, height ])\n",
    "            .domain(data.map(d => d.X))\n",
    "            .padding(.1);\n",
    "            svg.append(\"g\")\n",
    "                .call(d3.axisLeft(y))\n",
    "            \n",
    "        svg.selectAll(\"Rectangle\")\n",
    "                .data(data)\n",
    "                .join(\"rect\")\n",
    "                .attr(\"x\", x(0) )\n",
    "                .attr(\"y\", d => y(d.X))\n",
    "                .attr(\"width\", d => x(d.Y))\n",
    "                .attr(\"height\", y.bandwidth())\n",
    "                .attr(\"fill\", \"skyblue\")\n",
    "    })\n",
    "})(element);"
   ]
  },
  {
   "cell_type": "code",
   "execution_count": 101,
   "id": "9c577fab",
   "metadata": {},
   "outputs": [],
   "source": [
    "def bar_chart(data, width=960, height=300):\n",
    "    js_code = f\"\"\"\n",
    "    (function(element) {{\n",
    "    require(['d3'], function(d3) {{\n",
    "        const data = {data};\n",
    "        const margin = {{top: 60, right: 60, bottom: 100, left: 90}};\n",
    "        const width = {width} - margin.left - margin.right;\n",
    "        const height = {height} - margin.top - margin.bottom;\n",
    "\n",
    "        const svg = d3.select(element.get(0))\n",
    "            .append(\"svg\")\n",
    "            .attr(\"width\", {width} + margin.left + margin.right)\n",
    "            .attr(\"height\", {height} + margin.top + margin.bottom)\n",
    "            .append(\"g\")\n",
    "            .attr(\"transform\", \"translate(\" + margin.left + \",\" + margin.top + \")\");\n",
    "\n",
    "        const x = d3.scaleLinear()\n",
    "            .domain([0, d3.extent(data, function(d) {{ return d.Y }})[1]])\n",
    "            .range([0, {width}]);\n",
    "        svg.append(\"g\")\n",
    "            .attr(\"transform\", \"translate(0,\" + {height} + \")\")\n",
    "            .call(d3.axisBottom(x))\n",
    "            .selectAll(\"text\")\n",
    "            .attr(\"transform\", \"translate(-10,0)rotate(-45)\")\n",
    "            .style(\"text-anchor\", \"end\");\n",
    "\n",
    "        const y = d3.scaleBand()\n",
    "            .range([0, {height}])\n",
    "            .domain(data.map(d => d.X))\n",
    "            .padding(.1);\n",
    "        svg.append(\"g\")\n",
    "            .call(d3.axisLeft(y));\n",
    "\n",
    "        svg.selectAll(\"Rectangle\")\n",
    "            .data(data)\n",
    "            .join(\"rect\")\n",
    "            .attr(\"x\", x(0))\n",
    "            .attr(\"y\", d => y(d.X))\n",
    "            .attr(\"width\", d => x(d.Y))\n",
    "            .attr(\"height\", y.bandwidth())\n",
    "            .attr(\"fill\", \"skyblue\");\n",
    "    }});\n",
    "    }})(element);\"\"\"\n",
    "    return Javascript(js_code)\n"
   ]
  },
  {
   "cell_type": "code",
   "execution_count": 102,
   "id": "f022c08a",
   "metadata": {},
   "outputs": [],
   "source": [
    "data = [{'X': 'United States', 'Y': 12394},\n",
    "        {'X': 'Russia', 'Y': 6148},\n",
    "        {'X': 'Germany (FRG)', 'Y': 1653},\n",
    "        {'X': 'France', 'Y': 2162},\n",
    "        {'X': 'United Kingdom', 'Y': 1214},\n",
    "        {'X': 'China', 'Y': 1131},\n",
    "        {'X': 'Spain', 'Y': 814},\n",
    "        {'X': 'Netherlands', 'Y': 1167},\n",
    "        {'X': 'Italy', 'Y': 660},\n",
    "        {'X': 'Israel', 'Y': 1263}]"
   ]
  },
  {
   "cell_type": "code",
   "execution_count": 103,
   "id": "e9c6c811",
   "metadata": {},
   "outputs": [
    {
     "data": {
      "application/javascript": [
       "\n",
       "    (function(element) {\n",
       "    require(['d3'], function(d3) {\n",
       "        const data = [{'X': 'United States', 'Y': 12394}, {'X': 'Russia', 'Y': 6148}, {'X': 'Germany (FRG)', 'Y': 1653}, {'X': 'France', 'Y': 2162}, {'X': 'United Kingdom', 'Y': 1214}, {'X': 'China', 'Y': 1131}, {'X': 'Spain', 'Y': 814}, {'X': 'Netherlands', 'Y': 1167}, {'X': 'Italy', 'Y': 660}, {'X': 'Israel', 'Y': 1263}];\n",
       "        const margin = {top: 60, right: 60, bottom: 100, left: 90};\n",
       "        const width = 960 - margin.left - margin.right;\n",
       "        const height = 300 - margin.top - margin.bottom;\n",
       "\n",
       "        const svg = d3.select(element.get(0))\n",
       "            .append(\"svg\")\n",
       "            .attr(\"width\", 960 + margin.left + margin.right)\n",
       "            .attr(\"height\", 300 + margin.top + margin.bottom)\n",
       "            .append(\"g\")\n",
       "            .attr(\"transform\", \"translate(\" + margin.left + \",\" + margin.top + \")\");\n",
       "\n",
       "        const x = d3.scaleLinear()\n",
       "            .domain([0, d3.extent(data, function(d) { return d.Y })[1]])\n",
       "            .range([0, 960]);\n",
       "        svg.append(\"g\")\n",
       "            .attr(\"transform\", \"translate(0,\" + 300 + \")\")\n",
       "            .call(d3.axisBottom(x))\n",
       "            .selectAll(\"text\")\n",
       "            .attr(\"transform\", \"translate(-10,0)rotate(-45)\")\n",
       "            .style(\"text-anchor\", \"end\");\n",
       "\n",
       "        const y = d3.scaleBand()\n",
       "            .range([0, 300])\n",
       "            .domain(data.map(d => d.X))\n",
       "            .padding(.1);\n",
       "        svg.append(\"g\")\n",
       "            .call(d3.axisLeft(y));\n",
       "\n",
       "        svg.selectAll(\"Rectangle\")\n",
       "            .data(data)\n",
       "            .join(\"rect\")\n",
       "            .attr(\"x\", x(0))\n",
       "            .attr(\"y\", d => y(d.X))\n",
       "            .attr(\"width\", d => x(d.Y))\n",
       "            .attr(\"height\", y.bandwidth())\n",
       "            .attr(\"fill\", \"skyblue\");\n",
       "    });\n",
       "    })(element);"
      ],
      "text/plain": [
       "<IPython.core.display.Javascript object>"
      ]
     },
     "execution_count": 103,
     "metadata": {},
     "output_type": "execute_result"
    }
   ],
   "source": [
    "bar_chart(data)"
   ]
  },
  {
   "cell_type": "code",
   "execution_count": null,
   "id": "49764751",
   "metadata": {},
   "outputs": [],
   "source": []
  },
  {
   "cell_type": "code",
   "execution_count": null,
   "id": "980bdcdb",
   "metadata": {},
   "outputs": [],
   "source": []
  }
 ],
 "metadata": {
  "kernelspec": {
   "display_name": "Python 3 (ipykernel)",
   "language": "python",
   "name": "python3"
  },
  "language_info": {
   "codemirror_mode": {
    "name": "ipython",
    "version": 3
   },
   "file_extension": ".py",
   "mimetype": "text/x-python",
   "name": "python",
   "nbconvert_exporter": "python",
   "pygments_lexer": "ipython3",
   "version": "3.10.13"
  }
 },
 "nbformat": 4,
 "nbformat_minor": 5
}
