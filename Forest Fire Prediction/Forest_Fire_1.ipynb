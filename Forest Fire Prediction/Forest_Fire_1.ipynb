{
 "cells": [
  {
   "cell_type": "markdown",
   "id": "8c08eb62",
   "metadata": {},
   "source": [
    "# Forest Fire Prediction"
   ]
  },
  {
   "cell_type": "markdown",
   "id": "0bf9014d",
   "metadata": {},
   "source": [
    "![Img_2](/data/Images/Forest_Fire_4.jpg)"
   ]
  },
  {
   "cell_type": "markdown",
   "id": "f2d9fc22",
   "metadata": {},
   "source": [
    "# Attribute Information:"
   ]
  },
  {
   "cell_type": "markdown",
   "id": "ce146178",
   "metadata": {},
   "source": [
    "* month : month of the year: ‘jan’ to ‘dec’ encoded with 1 to 12"
   ]
  },
  {
   "cell_type": "markdown",
   "id": "46b90587",
   "metadata": {},
   "source": [
    "* FFMC : FFMC (Fine Fuel Moisture Code) index from the FWI system: 18.7 to 96.20\n",
    "           * The Fine Fuel Moisture Code (FFMC) is a numeric rating of the moisture content of litter and other cured fine fuels. his code is an indicator of the relative ease of ignition and the flammability of fine fuel."
   ]
  },
  {
   "cell_type": "markdown",
   "id": "ef972c48",
   "metadata": {},
   "source": [
    "* DMC : DMC (Duff Moisture Code) index from the FWI system: 1.1 to 291.3\n",
    "            * The Duff Moisture Code (DMC) represents fuel moisture of decomposed organic material underneath the litter. System designers suggest that it is represents moisture conditions for the equivalent of 15-day (or 360 hr) timelag fuels. It is unitless and open ended."
   ]
  },
  {
   "cell_type": "markdown",
   "id": "eebfc9a8",
   "metadata": {},
   "source": [
    "* DC : DC (Drought Code) index from the FWI system: 7.9 to 860.6\n",
    "             * The Drought Code (DC), much like the Keetch-Byrum Drought Index, represents drying deep into the soil. It approximates moisture conditions for the equivalent of 53-day (1272 hour) timelag fuels"
   ]
  },
  {
   "cell_type": "markdown",
   "id": "9fddfc86",
   "metadata": {},
   "source": [
    "* ISI : ISI (Initial Spread Index) index from the FWI system: 0.0 to 56.10\n",
    "              * The Initial Spread Index (ISI) is a numeric rating of the expected rate of fire spread"
   ]
  },
  {
   "cell_type": "markdown",
   "id": "af709135",
   "metadata": {},
   "source": [
    "* RH : relative humidity in %: 15.0 to 100\n",
    "               * Relative humidity is an indicator of the percentage of moisture in the air at the prevailing temperature"
   ]
  },
  {
   "cell_type": "markdown",
   "id": "3871f867",
   "metadata": {},
   "source": [
    "* FFMC\tfunction(temp,rain,rh,wind,ffmc0)\t          \n",
    "* ISI\tfunction(FFMC, wind)\n",
    "* DMC\tfunction(temp,rain,rh,month,dmc0)\t\n",
    "* BUI\tfunction(DC, DMC)\n",
    "* DC\tfunction(temp,rain,month,dc0)\t\n",
    "* FWI\tfunction(ISI, BUI)"
   ]
  },
  {
   "cell_type": "code",
   "execution_count": 1,
   "id": "8de43792",
   "metadata": {
    "ExecuteTime": {
     "end_time": "2022-05-23T16:05:08.524826Z",
     "start_time": "2022-05-23T16:05:05.089164Z"
    },
    "run_control": {
     "marked": false
    }
   },
   "outputs": [],
   "source": [
    "import numpy as np\n",
    "import pandas as pd\n",
    "import matplotlib.pyplot as plt\n",
    "from matplotlib.pyplot import figure\n",
    "import plotly.figure_factory as ff\n",
    "plt.style.use('seaborn')\n",
    "import ipywidgets as widgets\n",
    "from IPython.display import display\n",
    "import seaborn as sns\n",
    "from sklearn.model_selection import train_test_split\n",
    "from sklearn.preprocessing import StandardScaler\n",
    "from sklearn.naive_bayes import GaussianNB\n",
    "from sklearn.metrics import confusion_matrix\n",
    "from sklearn.metrics import accuracy_score\n",
    "from sklearn.metrics import mean_squared_error\n",
    "\n",
    "style = {'description_width': 'initial'}"
   ]
  },
  {
   "cell_type": "code",
   "execution_count": 2,
   "id": "c5ef6dc3",
   "metadata": {
    "ExecuteTime": {
     "end_time": "2022-05-23T16:05:10.272861Z",
     "start_time": "2022-05-23T16:05:10.252133Z"
    }
   },
   "outputs": [],
   "source": [
    "df = pd.read_csv(\"D:/Datasets/forestfires (1).csv\")"
   ]
  },
  {
   "cell_type": "code",
   "execution_count": 3,
   "id": "5fcfe28a",
   "metadata": {
    "ExecuteTime": {
     "end_time": "2022-05-23T16:05:10.815918Z",
     "start_time": "2022-05-23T16:05:10.783759Z"
    },
    "scrolled": true
   },
   "outputs": [
    {
     "data": {
      "text/html": [
       "<div>\n",
       "<style scoped>\n",
       "    .dataframe tbody tr th:only-of-type {\n",
       "        vertical-align: middle;\n",
       "    }\n",
       "\n",
       "    .dataframe tbody tr th {\n",
       "        vertical-align: top;\n",
       "    }\n",
       "\n",
       "    .dataframe thead th {\n",
       "        text-align: right;\n",
       "    }\n",
       "</style>\n",
       "<table border=\"1\" class=\"dataframe\">\n",
       "  <thead>\n",
       "    <tr style=\"text-align: right;\">\n",
       "      <th></th>\n",
       "      <th>month;FFMC;DMC;DC;ISI;temp;RH;wind;class</th>\n",
       "    </tr>\n",
       "  </thead>\n",
       "  <tbody>\n",
       "    <tr>\n",
       "      <th>0</th>\n",
       "      <td>3;86.2;26.2;94.3;5.1;8.2;51;6.7;0</td>\n",
       "    </tr>\n",
       "    <tr>\n",
       "      <th>1</th>\n",
       "      <td>10;90.6;35.4;669.1;6.7;18;33;0.9;0</td>\n",
       "    </tr>\n",
       "    <tr>\n",
       "      <th>2</th>\n",
       "      <td>10;90.6;43.7;686.9;6.7;14.6;33;1.3;0</td>\n",
       "    </tr>\n",
       "    <tr>\n",
       "      <th>3</th>\n",
       "      <td>3;91.7;33.3;77.5;9;8.3;97;4;0</td>\n",
       "    </tr>\n",
       "    <tr>\n",
       "      <th>4</th>\n",
       "      <td>3;89.3;51.3;102.2;9.6;11.4;99;1.8;0</td>\n",
       "    </tr>\n",
       "    <tr>\n",
       "      <th>...</th>\n",
       "      <td>...</td>\n",
       "    </tr>\n",
       "    <tr>\n",
       "      <th>510</th>\n",
       "      <td>8;81.6;56.7;665.6;1.9;27.8;32;2.7;1</td>\n",
       "    </tr>\n",
       "    <tr>\n",
       "      <th>511</th>\n",
       "      <td>8;81.6;56.7;665.6;1.9;21.9;71;5.8;1</td>\n",
       "    </tr>\n",
       "    <tr>\n",
       "      <th>512</th>\n",
       "      <td>8;81.6;56.7;665.6;1.9;21.2;70;6.7;1</td>\n",
       "    </tr>\n",
       "    <tr>\n",
       "      <th>513</th>\n",
       "      <td>8;94.4;146;614.7;11.3;25.6;42;4;0</td>\n",
       "    </tr>\n",
       "    <tr>\n",
       "      <th>514</th>\n",
       "      <td>11;79.5;3;106.7;1.1;11.8;31;4.5;0</td>\n",
       "    </tr>\n",
       "  </tbody>\n",
       "</table>\n",
       "<p>515 rows × 1 columns</p>\n",
       "</div>"
      ],
      "text/plain": [
       "    month;FFMC;DMC;DC;ISI;temp;RH;wind;class\n",
       "0          3;86.2;26.2;94.3;5.1;8.2;51;6.7;0\n",
       "1         10;90.6;35.4;669.1;6.7;18;33;0.9;0\n",
       "2       10;90.6;43.7;686.9;6.7;14.6;33;1.3;0\n",
       "3              3;91.7;33.3;77.5;9;8.3;97;4;0\n",
       "4        3;89.3;51.3;102.2;9.6;11.4;99;1.8;0\n",
       "..                                       ...\n",
       "510      8;81.6;56.7;665.6;1.9;27.8;32;2.7;1\n",
       "511      8;81.6;56.7;665.6;1.9;21.9;71;5.8;1\n",
       "512      8;81.6;56.7;665.6;1.9;21.2;70;6.7;1\n",
       "513        8;94.4;146;614.7;11.3;25.6;42;4;0\n",
       "514        11;79.5;3;106.7;1.1;11.8;31;4.5;0\n",
       "\n",
       "[515 rows x 1 columns]"
      ]
     },
     "execution_count": 3,
     "metadata": {},
     "output_type": "execute_result"
    }
   ],
   "source": [
    "df"
   ]
  },
  {
   "cell_type": "markdown",
   "id": "e160b05d",
   "metadata": {},
   "source": [
    "* Data is seperated using regex"
   ]
  },
  {
   "cell_type": "code",
   "execution_count": 4,
   "id": "0e1bc60f",
   "metadata": {
    "ExecuteTime": {
     "end_time": "2022-05-23T16:05:11.758921Z",
     "start_time": "2022-05-23T16:05:11.734895Z"
    }
   },
   "outputs": [],
   "source": [
    "df[['month', 'FFMC', 'DMC', 'DC', 'ISI', 'temp', 'RH', 'wind', 'class']] = df['month;FFMC;DMC;DC;ISI;temp;RH;wind;class'].str.split(';', expand=True)"
   ]
  },
  {
   "cell_type": "code",
   "execution_count": 5,
   "id": "66d52a58",
   "metadata": {
    "ExecuteTime": {
     "end_time": "2022-05-23T16:05:12.210252Z",
     "start_time": "2022-05-23T16:05:12.173781Z"
    }
   },
   "outputs": [
    {
     "data": {
      "text/html": [
       "<div>\n",
       "<style scoped>\n",
       "    .dataframe tbody tr th:only-of-type {\n",
       "        vertical-align: middle;\n",
       "    }\n",
       "\n",
       "    .dataframe tbody tr th {\n",
       "        vertical-align: top;\n",
       "    }\n",
       "\n",
       "    .dataframe thead th {\n",
       "        text-align: right;\n",
       "    }\n",
       "</style>\n",
       "<table border=\"1\" class=\"dataframe\">\n",
       "  <thead>\n",
       "    <tr style=\"text-align: right;\">\n",
       "      <th></th>\n",
       "      <th>month;FFMC;DMC;DC;ISI;temp;RH;wind;class</th>\n",
       "      <th>month</th>\n",
       "      <th>FFMC</th>\n",
       "      <th>DMC</th>\n",
       "      <th>DC</th>\n",
       "      <th>ISI</th>\n",
       "      <th>temp</th>\n",
       "      <th>RH</th>\n",
       "      <th>wind</th>\n",
       "      <th>class</th>\n",
       "    </tr>\n",
       "  </thead>\n",
       "  <tbody>\n",
       "    <tr>\n",
       "      <th>0</th>\n",
       "      <td>3;86.2;26.2;94.3;5.1;8.2;51;6.7;0</td>\n",
       "      <td>3</td>\n",
       "      <td>86.2</td>\n",
       "      <td>26.2</td>\n",
       "      <td>94.3</td>\n",
       "      <td>5.1</td>\n",
       "      <td>8.2</td>\n",
       "      <td>51</td>\n",
       "      <td>6.7</td>\n",
       "      <td>0</td>\n",
       "    </tr>\n",
       "    <tr>\n",
       "      <th>1</th>\n",
       "      <td>10;90.6;35.4;669.1;6.7;18;33;0.9;0</td>\n",
       "      <td>10</td>\n",
       "      <td>90.6</td>\n",
       "      <td>35.4</td>\n",
       "      <td>669.1</td>\n",
       "      <td>6.7</td>\n",
       "      <td>18</td>\n",
       "      <td>33</td>\n",
       "      <td>0.9</td>\n",
       "      <td>0</td>\n",
       "    </tr>\n",
       "    <tr>\n",
       "      <th>2</th>\n",
       "      <td>10;90.6;43.7;686.9;6.7;14.6;33;1.3;0</td>\n",
       "      <td>10</td>\n",
       "      <td>90.6</td>\n",
       "      <td>43.7</td>\n",
       "      <td>686.9</td>\n",
       "      <td>6.7</td>\n",
       "      <td>14.6</td>\n",
       "      <td>33</td>\n",
       "      <td>1.3</td>\n",
       "      <td>0</td>\n",
       "    </tr>\n",
       "    <tr>\n",
       "      <th>3</th>\n",
       "      <td>3;91.7;33.3;77.5;9;8.3;97;4;0</td>\n",
       "      <td>3</td>\n",
       "      <td>91.7</td>\n",
       "      <td>33.3</td>\n",
       "      <td>77.5</td>\n",
       "      <td>9</td>\n",
       "      <td>8.3</td>\n",
       "      <td>97</td>\n",
       "      <td>4</td>\n",
       "      <td>0</td>\n",
       "    </tr>\n",
       "    <tr>\n",
       "      <th>4</th>\n",
       "      <td>3;89.3;51.3;102.2;9.6;11.4;99;1.8;0</td>\n",
       "      <td>3</td>\n",
       "      <td>89.3</td>\n",
       "      <td>51.3</td>\n",
       "      <td>102.2</td>\n",
       "      <td>9.6</td>\n",
       "      <td>11.4</td>\n",
       "      <td>99</td>\n",
       "      <td>1.8</td>\n",
       "      <td>0</td>\n",
       "    </tr>\n",
       "    <tr>\n",
       "      <th>...</th>\n",
       "      <td>...</td>\n",
       "      <td>...</td>\n",
       "      <td>...</td>\n",
       "      <td>...</td>\n",
       "      <td>...</td>\n",
       "      <td>...</td>\n",
       "      <td>...</td>\n",
       "      <td>...</td>\n",
       "      <td>...</td>\n",
       "      <td>...</td>\n",
       "    </tr>\n",
       "    <tr>\n",
       "      <th>510</th>\n",
       "      <td>8;81.6;56.7;665.6;1.9;27.8;32;2.7;1</td>\n",
       "      <td>8</td>\n",
       "      <td>81.6</td>\n",
       "      <td>56.7</td>\n",
       "      <td>665.6</td>\n",
       "      <td>1.9</td>\n",
       "      <td>27.8</td>\n",
       "      <td>32</td>\n",
       "      <td>2.7</td>\n",
       "      <td>1</td>\n",
       "    </tr>\n",
       "    <tr>\n",
       "      <th>511</th>\n",
       "      <td>8;81.6;56.7;665.6;1.9;21.9;71;5.8;1</td>\n",
       "      <td>8</td>\n",
       "      <td>81.6</td>\n",
       "      <td>56.7</td>\n",
       "      <td>665.6</td>\n",
       "      <td>1.9</td>\n",
       "      <td>21.9</td>\n",
       "      <td>71</td>\n",
       "      <td>5.8</td>\n",
       "      <td>1</td>\n",
       "    </tr>\n",
       "    <tr>\n",
       "      <th>512</th>\n",
       "      <td>8;81.6;56.7;665.6;1.9;21.2;70;6.7;1</td>\n",
       "      <td>8</td>\n",
       "      <td>81.6</td>\n",
       "      <td>56.7</td>\n",
       "      <td>665.6</td>\n",
       "      <td>1.9</td>\n",
       "      <td>21.2</td>\n",
       "      <td>70</td>\n",
       "      <td>6.7</td>\n",
       "      <td>1</td>\n",
       "    </tr>\n",
       "    <tr>\n",
       "      <th>513</th>\n",
       "      <td>8;94.4;146;614.7;11.3;25.6;42;4;0</td>\n",
       "      <td>8</td>\n",
       "      <td>94.4</td>\n",
       "      <td>146</td>\n",
       "      <td>614.7</td>\n",
       "      <td>11.3</td>\n",
       "      <td>25.6</td>\n",
       "      <td>42</td>\n",
       "      <td>4</td>\n",
       "      <td>0</td>\n",
       "    </tr>\n",
       "    <tr>\n",
       "      <th>514</th>\n",
       "      <td>11;79.5;3;106.7;1.1;11.8;31;4.5;0</td>\n",
       "      <td>11</td>\n",
       "      <td>79.5</td>\n",
       "      <td>3</td>\n",
       "      <td>106.7</td>\n",
       "      <td>1.1</td>\n",
       "      <td>11.8</td>\n",
       "      <td>31</td>\n",
       "      <td>4.5</td>\n",
       "      <td>0</td>\n",
       "    </tr>\n",
       "  </tbody>\n",
       "</table>\n",
       "<p>515 rows × 10 columns</p>\n",
       "</div>"
      ],
      "text/plain": [
       "    month;FFMC;DMC;DC;ISI;temp;RH;wind;class month  FFMC   DMC     DC   ISI  \\\n",
       "0          3;86.2;26.2;94.3;5.1;8.2;51;6.7;0     3  86.2  26.2   94.3   5.1   \n",
       "1         10;90.6;35.4;669.1;6.7;18;33;0.9;0    10  90.6  35.4  669.1   6.7   \n",
       "2       10;90.6;43.7;686.9;6.7;14.6;33;1.3;0    10  90.6  43.7  686.9   6.7   \n",
       "3              3;91.7;33.3;77.5;9;8.3;97;4;0     3  91.7  33.3   77.5     9   \n",
       "4        3;89.3;51.3;102.2;9.6;11.4;99;1.8;0     3  89.3  51.3  102.2   9.6   \n",
       "..                                       ...   ...   ...   ...    ...   ...   \n",
       "510      8;81.6;56.7;665.6;1.9;27.8;32;2.7;1     8  81.6  56.7  665.6   1.9   \n",
       "511      8;81.6;56.7;665.6;1.9;21.9;71;5.8;1     8  81.6  56.7  665.6   1.9   \n",
       "512      8;81.6;56.7;665.6;1.9;21.2;70;6.7;1     8  81.6  56.7  665.6   1.9   \n",
       "513        8;94.4;146;614.7;11.3;25.6;42;4;0     8  94.4   146  614.7  11.3   \n",
       "514        11;79.5;3;106.7;1.1;11.8;31;4.5;0    11  79.5     3  106.7   1.1   \n",
       "\n",
       "     temp  RH wind class  \n",
       "0     8.2  51  6.7     0  \n",
       "1      18  33  0.9     0  \n",
       "2    14.6  33  1.3     0  \n",
       "3     8.3  97    4     0  \n",
       "4    11.4  99  1.8     0  \n",
       "..    ...  ..  ...   ...  \n",
       "510  27.8  32  2.7     1  \n",
       "511  21.9  71  5.8     1  \n",
       "512  21.2  70  6.7     1  \n",
       "513  25.6  42    4     0  \n",
       "514  11.8  31  4.5     0  \n",
       "\n",
       "[515 rows x 10 columns]"
      ]
     },
     "execution_count": 5,
     "metadata": {},
     "output_type": "execute_result"
    }
   ],
   "source": [
    "df"
   ]
  },
  {
   "cell_type": "code",
   "execution_count": 6,
   "id": "73cd9537",
   "metadata": {
    "ExecuteTime": {
     "end_time": "2022-05-23T16:05:12.659269Z",
     "start_time": "2022-05-23T16:05:12.651352Z"
    }
   },
   "outputs": [],
   "source": [
    "df.drop(['month;FFMC;DMC;DC;ISI;temp;RH;wind;class'], axis=1, inplace=True)"
   ]
  },
  {
   "cell_type": "markdown",
   "id": "3c1d09ae",
   "metadata": {},
   "source": [
    "* So the final data is in the format"
   ]
  },
  {
   "cell_type": "code",
   "execution_count": 7,
   "id": "8bf33bf5",
   "metadata": {
    "ExecuteTime": {
     "end_time": "2022-05-23T16:05:13.610150Z",
     "start_time": "2022-05-23T16:05:13.585355Z"
    }
   },
   "outputs": [
    {
     "data": {
      "text/html": [
       "<div>\n",
       "<style scoped>\n",
       "    .dataframe tbody tr th:only-of-type {\n",
       "        vertical-align: middle;\n",
       "    }\n",
       "\n",
       "    .dataframe tbody tr th {\n",
       "        vertical-align: top;\n",
       "    }\n",
       "\n",
       "    .dataframe thead th {\n",
       "        text-align: right;\n",
       "    }\n",
       "</style>\n",
       "<table border=\"1\" class=\"dataframe\">\n",
       "  <thead>\n",
       "    <tr style=\"text-align: right;\">\n",
       "      <th></th>\n",
       "      <th>month</th>\n",
       "      <th>FFMC</th>\n",
       "      <th>DMC</th>\n",
       "      <th>DC</th>\n",
       "      <th>ISI</th>\n",
       "      <th>temp</th>\n",
       "      <th>RH</th>\n",
       "      <th>wind</th>\n",
       "      <th>class</th>\n",
       "    </tr>\n",
       "  </thead>\n",
       "  <tbody>\n",
       "    <tr>\n",
       "      <th>0</th>\n",
       "      <td>3</td>\n",
       "      <td>86.2</td>\n",
       "      <td>26.2</td>\n",
       "      <td>94.3</td>\n",
       "      <td>5.1</td>\n",
       "      <td>8.2</td>\n",
       "      <td>51</td>\n",
       "      <td>6.7</td>\n",
       "      <td>0</td>\n",
       "    </tr>\n",
       "    <tr>\n",
       "      <th>1</th>\n",
       "      <td>10</td>\n",
       "      <td>90.6</td>\n",
       "      <td>35.4</td>\n",
       "      <td>669.1</td>\n",
       "      <td>6.7</td>\n",
       "      <td>18</td>\n",
       "      <td>33</td>\n",
       "      <td>0.9</td>\n",
       "      <td>0</td>\n",
       "    </tr>\n",
       "    <tr>\n",
       "      <th>2</th>\n",
       "      <td>10</td>\n",
       "      <td>90.6</td>\n",
       "      <td>43.7</td>\n",
       "      <td>686.9</td>\n",
       "      <td>6.7</td>\n",
       "      <td>14.6</td>\n",
       "      <td>33</td>\n",
       "      <td>1.3</td>\n",
       "      <td>0</td>\n",
       "    </tr>\n",
       "    <tr>\n",
       "      <th>3</th>\n",
       "      <td>3</td>\n",
       "      <td>91.7</td>\n",
       "      <td>33.3</td>\n",
       "      <td>77.5</td>\n",
       "      <td>9</td>\n",
       "      <td>8.3</td>\n",
       "      <td>97</td>\n",
       "      <td>4</td>\n",
       "      <td>0</td>\n",
       "    </tr>\n",
       "    <tr>\n",
       "      <th>4</th>\n",
       "      <td>3</td>\n",
       "      <td>89.3</td>\n",
       "      <td>51.3</td>\n",
       "      <td>102.2</td>\n",
       "      <td>9.6</td>\n",
       "      <td>11.4</td>\n",
       "      <td>99</td>\n",
       "      <td>1.8</td>\n",
       "      <td>0</td>\n",
       "    </tr>\n",
       "    <tr>\n",
       "      <th>...</th>\n",
       "      <td>...</td>\n",
       "      <td>...</td>\n",
       "      <td>...</td>\n",
       "      <td>...</td>\n",
       "      <td>...</td>\n",
       "      <td>...</td>\n",
       "      <td>...</td>\n",
       "      <td>...</td>\n",
       "      <td>...</td>\n",
       "    </tr>\n",
       "    <tr>\n",
       "      <th>510</th>\n",
       "      <td>8</td>\n",
       "      <td>81.6</td>\n",
       "      <td>56.7</td>\n",
       "      <td>665.6</td>\n",
       "      <td>1.9</td>\n",
       "      <td>27.8</td>\n",
       "      <td>32</td>\n",
       "      <td>2.7</td>\n",
       "      <td>1</td>\n",
       "    </tr>\n",
       "    <tr>\n",
       "      <th>511</th>\n",
       "      <td>8</td>\n",
       "      <td>81.6</td>\n",
       "      <td>56.7</td>\n",
       "      <td>665.6</td>\n",
       "      <td>1.9</td>\n",
       "      <td>21.9</td>\n",
       "      <td>71</td>\n",
       "      <td>5.8</td>\n",
       "      <td>1</td>\n",
       "    </tr>\n",
       "    <tr>\n",
       "      <th>512</th>\n",
       "      <td>8</td>\n",
       "      <td>81.6</td>\n",
       "      <td>56.7</td>\n",
       "      <td>665.6</td>\n",
       "      <td>1.9</td>\n",
       "      <td>21.2</td>\n",
       "      <td>70</td>\n",
       "      <td>6.7</td>\n",
       "      <td>1</td>\n",
       "    </tr>\n",
       "    <tr>\n",
       "      <th>513</th>\n",
       "      <td>8</td>\n",
       "      <td>94.4</td>\n",
       "      <td>146</td>\n",
       "      <td>614.7</td>\n",
       "      <td>11.3</td>\n",
       "      <td>25.6</td>\n",
       "      <td>42</td>\n",
       "      <td>4</td>\n",
       "      <td>0</td>\n",
       "    </tr>\n",
       "    <tr>\n",
       "      <th>514</th>\n",
       "      <td>11</td>\n",
       "      <td>79.5</td>\n",
       "      <td>3</td>\n",
       "      <td>106.7</td>\n",
       "      <td>1.1</td>\n",
       "      <td>11.8</td>\n",
       "      <td>31</td>\n",
       "      <td>4.5</td>\n",
       "      <td>0</td>\n",
       "    </tr>\n",
       "  </tbody>\n",
       "</table>\n",
       "<p>515 rows × 9 columns</p>\n",
       "</div>"
      ],
      "text/plain": [
       "    month  FFMC   DMC     DC   ISI  temp  RH wind class\n",
       "0       3  86.2  26.2   94.3   5.1   8.2  51  6.7     0\n",
       "1      10  90.6  35.4  669.1   6.7    18  33  0.9     0\n",
       "2      10  90.6  43.7  686.9   6.7  14.6  33  1.3     0\n",
       "3       3  91.7  33.3   77.5     9   8.3  97    4     0\n",
       "4       3  89.3  51.3  102.2   9.6  11.4  99  1.8     0\n",
       "..    ...   ...   ...    ...   ...   ...  ..  ...   ...\n",
       "510     8  81.6  56.7  665.6   1.9  27.8  32  2.7     1\n",
       "511     8  81.6  56.7  665.6   1.9  21.9  71  5.8     1\n",
       "512     8  81.6  56.7  665.6   1.9  21.2  70  6.7     1\n",
       "513     8  94.4   146  614.7  11.3  25.6  42    4     0\n",
       "514    11  79.5     3  106.7   1.1  11.8  31  4.5     0\n",
       "\n",
       "[515 rows x 9 columns]"
      ]
     },
     "execution_count": 7,
     "metadata": {},
     "output_type": "execute_result"
    }
   ],
   "source": [
    "df"
   ]
  },
  {
   "cell_type": "code",
   "execution_count": 8,
   "id": "ecd9542e",
   "metadata": {
    "ExecuteTime": {
     "end_time": "2022-05-23T16:05:14.115047Z",
     "start_time": "2022-05-23T16:05:14.069707Z"
    }
   },
   "outputs": [
    {
     "data": {
      "text/html": [
       "<div>\n",
       "<style scoped>\n",
       "    .dataframe tbody tr th:only-of-type {\n",
       "        vertical-align: middle;\n",
       "    }\n",
       "\n",
       "    .dataframe tbody tr th {\n",
       "        vertical-align: top;\n",
       "    }\n",
       "\n",
       "    .dataframe thead th {\n",
       "        text-align: right;\n",
       "    }\n",
       "</style>\n",
       "<table border=\"1\" class=\"dataframe\">\n",
       "  <thead>\n",
       "    <tr style=\"text-align: right;\">\n",
       "      <th></th>\n",
       "      <th>month</th>\n",
       "      <th>FFMC</th>\n",
       "      <th>DMC</th>\n",
       "      <th>DC</th>\n",
       "      <th>ISI</th>\n",
       "      <th>temp</th>\n",
       "      <th>RH</th>\n",
       "      <th>wind</th>\n",
       "      <th>class</th>\n",
       "    </tr>\n",
       "  </thead>\n",
       "  <tbody>\n",
       "    <tr>\n",
       "      <th>count</th>\n",
       "      <td>515</td>\n",
       "      <td>515</td>\n",
       "      <td>515</td>\n",
       "      <td>515</td>\n",
       "      <td>515</td>\n",
       "      <td>515</td>\n",
       "      <td>515</td>\n",
       "      <td>515</td>\n",
       "      <td>515</td>\n",
       "    </tr>\n",
       "    <tr>\n",
       "      <th>unique</th>\n",
       "      <td>12</td>\n",
       "      <td>105</td>\n",
       "      <td>214</td>\n",
       "      <td>218</td>\n",
       "      <td>119</td>\n",
       "      <td>192</td>\n",
       "      <td>75</td>\n",
       "      <td>21</td>\n",
       "      <td>2</td>\n",
       "    </tr>\n",
       "    <tr>\n",
       "      <th>top</th>\n",
       "      <td>8</td>\n",
       "      <td>92.1</td>\n",
       "      <td>99</td>\n",
       "      <td>745.3</td>\n",
       "      <td>9.6</td>\n",
       "      <td>19.6</td>\n",
       "      <td>27</td>\n",
       "      <td>3.1</td>\n",
       "      <td>1</td>\n",
       "    </tr>\n",
       "    <tr>\n",
       "      <th>freq</th>\n",
       "      <td>184</td>\n",
       "      <td>28</td>\n",
       "      <td>10</td>\n",
       "      <td>10</td>\n",
       "      <td>23</td>\n",
       "      <td>8</td>\n",
       "      <td>33</td>\n",
       "      <td>53</td>\n",
       "      <td>269</td>\n",
       "    </tr>\n",
       "  </tbody>\n",
       "</table>\n",
       "</div>"
      ],
      "text/plain": [
       "       month  FFMC  DMC     DC  ISI  temp   RH wind class\n",
       "count    515   515  515    515  515   515  515  515   515\n",
       "unique    12   105  214    218  119   192   75   21     2\n",
       "top        8  92.1   99  745.3  9.6  19.6   27  3.1     1\n",
       "freq     184    28   10     10   23     8   33   53   269"
      ]
     },
     "execution_count": 8,
     "metadata": {},
     "output_type": "execute_result"
    }
   ],
   "source": [
    "df.describe()"
   ]
  },
  {
   "cell_type": "code",
   "execution_count": 9,
   "id": "30865de8",
   "metadata": {
    "ExecuteTime": {
     "end_time": "2022-05-23T16:05:14.552097Z",
     "start_time": "2022-05-23T16:05:14.535709Z"
    }
   },
   "outputs": [],
   "source": [
    "for i in df.columns:\n",
    "    df[i] = df[i].astype(float)"
   ]
  },
  {
   "cell_type": "code",
   "execution_count": 10,
   "id": "753cf379",
   "metadata": {
    "ExecuteTime": {
     "end_time": "2022-05-23T16:05:15.115693Z",
     "start_time": "2022-05-23T16:05:15.081872Z"
    }
   },
   "outputs": [
    {
     "name": "stdout",
     "output_type": "stream",
     "text": [
      "<class 'pandas.core.frame.DataFrame'>\n",
      "RangeIndex: 515 entries, 0 to 514\n",
      "Data columns (total 9 columns):\n",
      " #   Column  Non-Null Count  Dtype  \n",
      "---  ------  --------------  -----  \n",
      " 0   month   515 non-null    float64\n",
      " 1   FFMC    515 non-null    float64\n",
      " 2   DMC     515 non-null    float64\n",
      " 3   DC      515 non-null    float64\n",
      " 4   ISI     515 non-null    float64\n",
      " 5   temp    515 non-null    float64\n",
      " 6   RH      515 non-null    float64\n",
      " 7   wind    515 non-null    float64\n",
      " 8   class   515 non-null    float64\n",
      "dtypes: float64(9)\n",
      "memory usage: 36.3 KB\n"
     ]
    }
   ],
   "source": [
    "df.info()"
   ]
  },
  {
   "cell_type": "code",
   "execution_count": 11,
   "id": "d6299ebe",
   "metadata": {
    "ExecuteTime": {
     "end_time": "2022-05-23T16:05:17.912818Z",
     "start_time": "2022-05-23T16:05:17.871895Z"
    }
   },
   "outputs": [
    {
     "data": {
      "text/plain": [
       "<bound method DataFrame.corr of      month  FFMC    DMC     DC   ISI  temp    RH  wind  class\n",
       "0      3.0  86.2   26.2   94.3   5.1   8.2  51.0   6.7    0.0\n",
       "1     10.0  90.6   35.4  669.1   6.7  18.0  33.0   0.9    0.0\n",
       "2     10.0  90.6   43.7  686.9   6.7  14.6  33.0   1.3    0.0\n",
       "3      3.0  91.7   33.3   77.5   9.0   8.3  97.0   4.0    0.0\n",
       "4      3.0  89.3   51.3  102.2   9.6  11.4  99.0   1.8    0.0\n",
       "..     ...   ...    ...    ...   ...   ...   ...   ...    ...\n",
       "510    8.0  81.6   56.7  665.6   1.9  27.8  32.0   2.7    1.0\n",
       "511    8.0  81.6   56.7  665.6   1.9  21.9  71.0   5.8    1.0\n",
       "512    8.0  81.6   56.7  665.6   1.9  21.2  70.0   6.7    1.0\n",
       "513    8.0  94.4  146.0  614.7  11.3  25.6  42.0   4.0    0.0\n",
       "514   11.0  79.5    3.0  106.7   1.1  11.8  31.0   4.5    0.0\n",
       "\n",
       "[515 rows x 9 columns]>"
      ]
     },
     "execution_count": 11,
     "metadata": {},
     "output_type": "execute_result"
    }
   ],
   "source": [
    "df.corr"
   ]
  },
  {
   "cell_type": "code",
   "execution_count": 12,
   "id": "760006cf",
   "metadata": {
    "ExecuteTime": {
     "end_time": "2022-05-23T16:05:18.248458Z",
     "start_time": "2022-05-23T16:05:18.223589Z"
    }
   },
   "outputs": [
    {
     "data": {
      "text/plain": [
       "8.0     184\n",
       "9.0     171\n",
       "3.0      54\n",
       "7.0      32\n",
       "2.0      20\n",
       "6.0      16\n",
       "10.0     15\n",
       "4.0       9\n",
       "12.0      9\n",
       "1.0       2\n",
       "5.0       2\n",
       "11.0      1\n",
       "Name: month, dtype: int64"
      ]
     },
     "execution_count": 12,
     "metadata": {},
     "output_type": "execute_result"
    }
   ],
   "source": [
    "df['month'].value_counts()"
   ]
  },
  {
   "cell_type": "code",
   "execution_count": 13,
   "id": "913f4d27",
   "metadata": {
    "ExecuteTime": {
     "end_time": "2022-05-23T16:05:18.716931Z",
     "start_time": "2022-05-23T16:05:18.696941Z"
    }
   },
   "outputs": [],
   "source": [
    "# list of the months\n",
    "list_1 = [8, 9, 3, 7, 2, 6, 10, 4, 12, 1, 5, 11]"
   ]
  },
  {
   "cell_type": "code",
   "execution_count": 14,
   "id": "660d53fd",
   "metadata": {
    "ExecuteTime": {
     "end_time": "2022-05-23T16:05:19.589643Z",
     "start_time": "2022-05-23T16:05:19.246249Z"
    }
   },
   "outputs": [
    {
     "data": {
      "text/plain": [
       "<matplotlib.patches.Circle at 0x1d1e54e4760>"
      ]
     },
     "execution_count": 14,
     "metadata": {},
     "output_type": "execute_result"
    },
    {
     "data": {
      "image/png": "[encoded data removed]",
      "text/plain": [
       "<Figure size 1440x864 with 1 Axes>"
      ]
     },
     "metadata": {},
     "output_type": "display_data"
    }
   ],
   "source": [
    "# Data Points Captured as per month\n",
    "figure(figsize=(20, 12))\n",
    "# explode = (0.05, 0.05, 0.05, 0.05, 0.05, 0.05, 0.05, 0.05, 0.05, 0.05, 0.05, 0.05)\n",
    "plt.pie(df['month'].value_counts(), labels=list_1,\n",
    "        autopct='%1.1f%%', pctdistance=0.85)\n",
    "donut_plot = plt.Circle((0, 0), 0.70, fc='white')\n",
    "fig = plt.gcf()\n",
    "fig.gca().add_artist(donut_plot)"
   ]
  },
  {
   "cell_type": "code",
   "execution_count": 15,
   "id": "4b53b958",
   "metadata": {
    "ExecuteTime": {
     "end_time": "2022-05-23T16:05:19.786642Z",
     "start_time": "2022-05-23T16:05:19.776411Z"
    }
   },
   "outputs": [
    {
     "data": {
      "text/plain": [
       "Index(['month', 'FFMC', 'DMC', 'DC', 'ISI', 'temp', 'RH', 'wind', 'class'], dtype='object')"
      ]
     },
     "execution_count": 15,
     "metadata": {},
     "output_type": "execute_result"
    }
   ],
   "source": [
    "df.columns"
   ]
  },
  {
   "cell_type": "code",
   "execution_count": 16,
   "id": "960fa8ce",
   "metadata": {
    "ExecuteTime": {
     "end_time": "2022-05-23T16:05:20.379154Z",
     "start_time": "2022-05-23T16:05:20.349343Z"
    }
   },
   "outputs": [],
   "source": [
    "# Ipywidgets will create a dropdown of the columns\n",
    "wig_col_1 = widgets.Dropdown(\n",
    "                options=[col for col in df.columns.tolist() if col.startswith(('FFMC', 'DMC', 'DC', 'ISI', 'temp', 'RH', 'wind', 'class'))],\n",
    "                description='Choose a Column to Plot ',\n",
    "                disabled=False,\n",
    "                layout=widgets.Layout(width='40%', height='40px'),\n",
    "                style=style)"
   ]
  },
  {
   "cell_type": "code",
   "execution_count": 17,
   "id": "63943c5a",
   "metadata": {
    "ExecuteTime": {
     "end_time": "2022-05-23T16:05:26.309688Z",
     "start_time": "2022-05-23T16:05:21.039946Z"
    }
   },
   "outputs": [
    {
     "data": {
      "application/vnd.jupyter.widget-view+json": {
       "model_id": "6f14825e222746ecb6079eb16d1f1720",
       "version_major": 2,
       "version_minor": 0
      },
      "text/plain": [
       "Dropdown(description='Choose a Column to Plot ', layout=Layout(height='40px', width='40%'), options=('FFMC', '…"
      ]
     },
     "metadata": {},
     "output_type": "display_data"
    },
    {
     "data": {
      "text/plain": [
       "<AxesSubplot:xlabel='FFMC', ylabel='Count'>"
      ]
     },
     "execution_count": 17,
     "metadata": {},
     "output_type": "execute_result"
    },
    {
     "data": {
      "image/png": "[encoded data removed]",
      "text/plain": [
       "<Figure size 1440x864 with 1 Axes>"
      ]
     },
     "metadata": {},
     "output_type": "display_data"
    }
   ],
   "source": [
    "figure(figsize=(20, 12))\n",
    "display(wig_col_1)\n",
    "\n",
    "#sns.kdeplot(wig_col_1.value,  data=df, color=\"#81e6dd\")\n",
    "sns.histplot(data=df[wig_col_1.value], color=\"#81e6dd\", kde=True, bins=20)"
   ]
  },
  {
   "cell_type": "code",
   "execution_count": 18,
   "id": "996b726b",
   "metadata": {
    "ExecuteTime": {
     "end_time": "2022-05-23T16:05:26.384726Z",
     "start_time": "2022-05-23T16:05:26.366153Z"
    }
   },
   "outputs": [],
   "source": [
    "x = df.iloc[:, :-1].values # All dataset Except last column which are the independent varible \n",
    "y = df.iloc[:, -1].values # Last Column which is dependent varible"
   ]
  },
  {
   "cell_type": "code",
   "execution_count": 19,
   "id": "2af6e85a",
   "metadata": {
    "ExecuteTime": {
     "end_time": "2022-05-23T16:05:26.501773Z",
     "start_time": "2022-05-23T16:05:26.480888Z"
    }
   },
   "outputs": [
    {
     "data": {
      "text/plain": [
       "array([[  3. ,  86.2,  26.2, ...,   8.2,  51. ,   6.7],\n",
       "       [ 10. ,  90.6,  35.4, ...,  18. ,  33. ,   0.9],\n",
       "       [ 10. ,  90.6,  43.7, ...,  14.6,  33. ,   1.3],\n",
       "       ...,\n",
       "       [  8. ,  81.6,  56.7, ...,  21.2,  70. ,   6.7],\n",
       "       [  8. ,  94.4, 146. , ...,  25.6,  42. ,   4. ],\n",
       "       [ 11. ,  79.5,   3. , ...,  11.8,  31. ,   4.5]])"
      ]
     },
     "execution_count": 19,
     "metadata": {},
     "output_type": "execute_result"
    }
   ],
   "source": [
    "x"
   ]
  },
  {
   "cell_type": "code",
   "execution_count": 20,
   "id": "0c43ba3c",
   "metadata": {
    "ExecuteTime": {
     "end_time": "2022-05-23T16:05:26.616294Z",
     "start_time": "2022-05-23T16:05:26.580322Z"
    }
   },
   "outputs": [
    {
     "data": {
      "application/vnd.jupyter.widget-view+json": {
       "model_id": "654fe722855243e79a90416ef1fb79a3",
       "version_major": 2,
       "version_minor": 0
      },
      "text/plain": [
       "FloatSlider(value=0.05, description='Test Size :', max=0.3, min=0.05, step=0.05)"
      ]
     },
     "metadata": {},
     "output_type": "display_data"
    }
   ],
   "source": [
    "# Slider for changing test size of a function\n",
    "test_size = widgets.FloatSlider(min=0.05, max=0.3, value=0.05, step=0.05, description=\"Test Size :\", tooltips=['Usually 20-30%'])\n",
    "display(test_size)"
   ]
  },
  {
   "cell_type": "code",
   "execution_count": 21,
   "id": "7c590246",
   "metadata": {
    "ExecuteTime": {
     "end_time": "2022-05-23T16:05:43.491569Z",
     "start_time": "2022-05-23T16:05:43.478078Z"
    }
   },
   "outputs": [],
   "source": [
    "# Spliting Data to main two parts which are the train and test \n",
    "x_train, x_test, y_train, y_test = train_test_split(x, y, test_size=test_size.value, random_state=0)"
   ]
  },
  {
   "cell_type": "code",
   "execution_count": 22,
   "id": "70d3d263",
   "metadata": {
    "ExecuteTime": {
     "end_time": "2022-05-14T18:46:39.196107Z",
     "start_time": "2022-05-14T18:46:39.190284Z"
    }
   },
   "outputs": [],
   "source": [
    "# Feature Scaling is applied for the independent varible to be in range\n",
    "#sc=StandardScaler()"
   ]
  },
  {
   "cell_type": "code",
   "execution_count": 23,
   "id": "0e8d3677",
   "metadata": {
    "ExecuteTime": {
     "end_time": "2022-05-23T16:06:16.029743Z",
     "start_time": "2022-05-23T16:06:16.006010Z"
    }
   },
   "outputs": [],
   "source": [
    "from sklearn.preprocessing import MinMaxScaler\n",
    "sc = MinMaxScaler()"
   ]
  },
  {
   "cell_type": "code",
   "execution_count": 24,
   "id": "f2f6f6d1",
   "metadata": {
    "ExecuteTime": {
     "end_time": "2022-05-23T16:06:18.021696Z",
     "start_time": "2022-05-23T16:06:17.998694Z"
    }
   },
   "outputs": [],
   "source": [
    "# Passing Data from standard scaler\n",
    "x_train = sc.fit_transform(x_train)"
   ]
  },
  {
   "cell_type": "code",
   "execution_count": 25,
   "id": "dfd5ec22",
   "metadata": {
    "ExecuteTime": {
     "end_time": "2022-05-23T16:06:18.985396Z",
     "start_time": "2022-05-23T16:06:18.945967Z"
    }
   },
   "outputs": [
    {
     "data": {
      "text/plain": [
       "array([[7.000e+00, 9.390e+01, 1.697e+02, 4.118e+02, 1.230e+01, 2.340e+01,\n",
       "        4.000e+01, 6.300e+00],\n",
       "       [8.000e+00, 9.140e+01, 1.424e+02, 6.014e+02, 1.060e+01, 1.980e+01,\n",
       "        3.900e+01, 5.400e+00],\n",
       "       [1.000e+01, 9.000e+01, 4.150e+01, 6.826e+02, 8.700e+00, 1.130e+01,\n",
       "        6.000e+01, 5.400e+00],\n",
       "       [9.000e+00, 9.090e+01, 1.265e+02, 6.865e+02, 7.000e+00, 1.470e+01,\n",
       "        7.000e+01, 3.600e+00],\n",
       "       [7.000e+00, 9.070e+01, 8.090e+01, 3.683e+02, 1.680e+01, 1.480e+01,\n",
       "        7.800e+01, 8.000e+00],\n",
       "       [8.000e+00, 9.020e+01, 9.690e+01, 6.242e+02, 8.900e+00, 1.470e+01,\n",
       "        5.900e+01, 5.800e+00],\n",
       "       [4.000e+00, 8.190e+01, 3.000e+00, 7.900e+00, 3.500e+00, 1.340e+01,\n",
       "        7.500e+01, 1.800e+00],\n",
       "       [9.000e+00, 9.330e+01, 1.412e+02, 7.139e+02, 1.390e+01, 2.290e+01,\n",
       "        4.400e+01, 5.400e+00],\n",
       "       [8.000e+00, 9.310e+01, 1.573e+02, 6.667e+02, 1.350e+01, 2.400e+01,\n",
       "        3.600e+01, 3.100e+00],\n",
       "       [9.000e+00, 9.250e+01, 1.211e+02, 6.744e+02, 8.600e+00, 1.770e+01,\n",
       "        2.500e+01, 3.100e+00],\n",
       "       [9.000e+00, 9.330e+01, 1.412e+02, 7.139e+02, 1.390e+01, 1.860e+01,\n",
       "        4.900e+01, 3.600e+00],\n",
       "       [1.000e+01, 9.170e+01, 4.850e+01, 6.961e+02, 1.110e+01, 1.610e+01,\n",
       "        4.400e+01, 4.000e+00],\n",
       "       [2.000e+00, 8.520e+01, 4.900e+00, 1.580e+01, 6.300e+00, 7.500e+00,\n",
       "        4.600e+01, 8.000e+00],\n",
       "       [8.000e+00, 9.210e+01, 2.070e+02, 6.726e+02, 8.200e+00, 2.680e+01,\n",
       "        3.500e+01, 1.300e+00],\n",
       "       [8.000e+00, 9.580e+01, 1.520e+02, 6.241e+02, 1.380e+01, 3.240e+01,\n",
       "        2.100e+01, 4.500e+00],\n",
       "       [8.000e+00, 9.070e+01, 1.941e+02, 6.430e+02, 6.800e+00, 2.130e+01,\n",
       "        4.100e+01, 3.600e+00],\n",
       "       [7.000e+00, 9.370e+01, 1.013e+02, 4.234e+02, 1.470e+01, 1.820e+01,\n",
       "        8.200e+01, 4.500e+00],\n",
       "       [8.000e+00, 9.070e+01, 1.941e+02, 6.430e+02, 6.800e+00, 1.620e+01,\n",
       "        6.300e+01, 2.700e+00],\n",
       "       [3.000e+00, 8.930e+01, 5.130e+01, 1.022e+02, 9.600e+00, 1.060e+01,\n",
       "        4.600e+01, 4.900e+00],\n",
       "       [9.000e+00, 9.430e+01, 8.510e+01, 6.923e+02, 1.590e+01, 2.590e+01,\n",
       "        2.400e+01, 4.000e+00],\n",
       "       [8.000e+00, 9.450e+01, 1.394e+02, 6.891e+02, 2.000e+01, 2.890e+01,\n",
       "        2.900e+01, 4.900e+00],\n",
       "       [2.000e+00, 8.660e+01, 1.320e+01, 4.300e+01, 5.300e+00, 1.570e+01,\n",
       "        4.300e+01, 3.100e+00],\n",
       "       [1.200e+01, 8.440e+01, 2.720e+01, 3.535e+02, 6.800e+00, 4.800e+00,\n",
       "        5.700e+01, 8.500e+00],\n",
       "       [8.000e+00, 9.480e+01, 2.224e+02, 6.986e+02, 1.390e+01, 2.750e+01,\n",
       "        2.700e+01, 4.900e+00],\n",
       "       [9.000e+00, 9.180e+01, 7.850e+01, 7.243e+02, 9.200e+00, 1.910e+01,\n",
       "        3.800e+01, 2.700e+00],\n",
       "       [8.000e+00, 9.350e+01, 1.394e+02, 5.942e+02, 2.030e+01, 2.290e+01,\n",
       "        3.100e+01, 7.200e+00],\n",
       "       [9.000e+00, 9.370e+01, 8.090e+01, 6.852e+02, 1.790e+01, 2.320e+01,\n",
       "        2.600e+01, 4.900e+00],\n",
       "       [4.000e+00, 8.790e+01, 2.490e+01, 4.160e+01, 3.700e+00, 1.090e+01,\n",
       "        6.400e+01, 3.100e+00],\n",
       "       [9.000e+00, 9.180e+01, 7.850e+01, 7.243e+02, 9.200e+00, 1.890e+01,\n",
       "        3.500e+01, 2.700e+00],\n",
       "       [9.000e+00, 9.280e+01, 1.190e+02, 7.835e+02, 7.500e+00, 1.680e+01,\n",
       "        2.800e+01, 4.000e+00],\n",
       "       [8.000e+00, 9.160e+01, 1.813e+02, 6.130e+02, 7.600e+00, 2.480e+01,\n",
       "        3.600e+01, 4.000e+00],\n",
       "       [9.000e+00, 9.160e+01, 1.084e+02, 7.640e+02, 6.200e+00, 2.270e+01,\n",
       "        3.500e+01, 2.200e+00],\n",
       "       [8.000e+00, 9.210e+01, 1.112e+02, 6.541e+02, 9.600e+00, 1.840e+01,\n",
       "        4.500e+01, 3.600e+00],\n",
       "       [3.000e+00, 9.170e+01, 3.580e+01, 8.080e+01, 7.800e+00, 1.700e+01,\n",
       "        2.700e+01, 4.900e+00],\n",
       "       [2.000e+00, 8.420e+01, 6.800e+00, 2.660e+01, 7.700e+00, 6.700e+00,\n",
       "        7.900e+01, 3.100e+00],\n",
       "       [5.000e+00, 8.510e+01, 2.800e+01, 1.138e+02, 3.500e+00, 1.130e+01,\n",
       "        9.400e+01, 4.900e+00],\n",
       "       [8.000e+00, 9.020e+01, 9.690e+01, 6.242e+02, 8.900e+00, 2.030e+01,\n",
       "        3.900e+01, 4.900e+00],\n",
       "       [3.000e+00, 6.900e+01, 2.400e+00, 1.550e+01, 7.000e-01, 1.740e+01,\n",
       "        2.400e+01, 5.400e+00],\n",
       "       [3.000e+00, 9.060e+01, 5.010e+01, 1.004e+02, 7.800e+00, 1.520e+01,\n",
       "        3.100e+01, 8.500e+00],\n",
       "       [8.000e+00, 9.020e+01, 9.960e+01, 6.312e+02, 6.300e+00, 2.140e+01,\n",
       "        3.300e+01, 3.100e+00],\n",
       "       [9.000e+00, 9.090e+01, 1.265e+02, 6.865e+02, 7.000e+00, 1.560e+01,\n",
       "        6.600e+01, 3.100e+00],\n",
       "       [2.000e+00, 8.500e+01, 9.000e+00, 5.690e+01, 3.500e+00, 1.010e+01,\n",
       "        6.200e+01, 1.800e+00],\n",
       "       [9.000e+00, 9.250e+01, 8.800e+01, 6.986e+02, 7.100e+00, 2.030e+01,\n",
       "        4.500e+01, 3.100e+00],\n",
       "       [9.000e+00, 9.430e+01, 8.510e+01, 6.923e+02, 1.590e+01, 2.010e+01,\n",
       "        4.700e+01, 4.900e+00],\n",
       "       [8.000e+00, 9.480e+01, 1.083e+02, 6.471e+02, 1.700e+01, 1.640e+01,\n",
       "        4.700e+01, 1.300e+00],\n",
       "       [8.000e+00, 9.210e+01, 1.780e+02, 6.053e+02, 9.600e+00, 2.330e+01,\n",
       "        4.000e+01, 4.000e+00],\n",
       "       [7.000e+00, 9.370e+01, 1.013e+02, 4.588e+02, 1.190e+01, 1.930e+01,\n",
       "        3.900e+01, 7.200e+00],\n",
       "       [3.000e+00, 9.010e+01, 3.970e+01, 8.660e+01, 6.200e+00, 1.060e+01,\n",
       "        3.000e+01, 4.000e+00],\n",
       "       [9.000e+00, 9.350e+01, 1.493e+02, 7.286e+02, 8.100e+00, 2.780e+01,\n",
       "        2.700e+01, 3.100e+00],\n",
       "       [1.000e+01, 9.060e+01, 3.540e+01, 6.691e+02, 6.700e+00, 1.800e+01,\n",
       "        3.300e+01, 9.000e-01],\n",
       "       [8.000e+00, 9.160e+01, 1.813e+02, 6.130e+02, 7.600e+00, 2.430e+01,\n",
       "        3.300e+01, 3.600e+00],\n",
       "       [8.000e+00, 9.520e+01, 2.177e+02, 6.900e+02, 1.800e+01, 2.820e+01,\n",
       "        2.900e+01, 1.800e+00],\n",
       "       [9.000e+00, 9.210e+01, 9.900e+01, 7.453e+02, 9.600e+00, 1.010e+01,\n",
       "        7.500e+01, 3.600e+00],\n",
       "       [9.000e+00, 9.350e+01, 1.493e+02, 7.286e+02, 8.100e+00, 2.290e+01,\n",
       "        3.900e+01, 4.900e+00],\n",
       "       [9.000e+00, 9.220e+01, 1.023e+02, 7.515e+02, 8.400e+00, 1.970e+01,\n",
       "        3.500e+01, 1.800e+00],\n",
       "       [8.000e+00, 9.020e+01, 9.960e+01, 6.312e+02, 6.300e+00, 1.620e+01,\n",
       "        5.900e+01, 3.100e+00],\n",
       "       [9.000e+00, 8.790e+01, 8.480e+01, 7.251e+02, 3.700e+00, 2.180e+01,\n",
       "        3.400e+01, 2.200e+00],\n",
       "       [2.000e+00, 8.390e+01, 8.000e+00, 3.020e+01, 2.600e+00, 1.270e+01,\n",
       "        4.800e+01, 1.800e+00],\n",
       "       [9.000e+00, 9.240e+01, 1.058e+02, 7.581e+02, 9.900e+00, 1.600e+01,\n",
       "        4.500e+01, 1.800e+00],\n",
       "       [8.000e+00, 6.350e+01, 7.080e+01, 6.653e+02, 8.000e-01, 1.700e+01,\n",
       "        7.200e+01, 6.700e+00],\n",
       "       [8.000e+00, 9.610e+01, 1.811e+02, 6.712e+02, 1.430e+01, 3.230e+01,\n",
       "        2.700e+01, 2.200e+00],\n",
       "       [8.000e+00, 9.170e+01, 1.914e+02, 6.359e+02, 7.800e+00, 2.620e+01,\n",
       "        3.600e+01, 4.500e+00],\n",
       "       [8.000e+00, 9.310e+01, 1.573e+02, 6.667e+02, 1.350e+01, 2.870e+01,\n",
       "        2.800e+01, 2.700e+00],\n",
       "       [9.000e+00, 9.120e+01, 1.244e+02, 7.953e+02, 8.500e+00, 2.150e+01,\n",
       "        2.800e+01, 4.500e+00],\n",
       "       [8.000e+00, 9.480e+01, 1.083e+02, 6.471e+02, 1.700e+01, 2.010e+01,\n",
       "        4.000e+01, 4.000e+00],\n",
       "       [8.000e+00, 9.210e+01, 2.070e+02, 6.726e+02, 8.200e+00, 2.110e+01,\n",
       "        5.400e+01, 2.200e+00],\n",
       "       [9.000e+00, 9.030e+01, 2.900e+02, 8.553e+02, 7.400e+00, 1.990e+01,\n",
       "        4.400e+01, 3.100e+00],\n",
       "       [8.000e+00, 9.400e+01, 4.790e+01, 1.007e+02, 1.070e+01, 1.730e+01,\n",
       "        8.000e+01, 4.500e+00],\n",
       "       [8.000e+00, 9.180e+01, 1.751e+02, 7.007e+02, 1.380e+01, 2.570e+01,\n",
       "        3.900e+01, 5.400e+00],\n",
       "       [8.000e+00, 9.510e+01, 1.413e+02, 6.058e+02, 1.770e+01, 2.060e+01,\n",
       "        5.800e+01, 1.300e+00],\n",
       "       [9.000e+00, 9.250e+01, 8.800e+01, 6.986e+02, 7.100e+00, 1.780e+01,\n",
       "        5.100e+01, 7.200e+00],\n",
       "       [8.000e+00, 9.520e+01, 2.177e+02, 6.900e+02, 1.800e+01, 3.080e+01,\n",
       "        1.900e+01, 4.500e+00],\n",
       "       [9.000e+00, 9.250e+01, 1.211e+02, 6.744e+02, 8.600e+00, 1.820e+01,\n",
       "        4.600e+01, 1.800e+00],\n",
       "       [8.000e+00, 8.160e+01, 5.670e+01, 6.656e+02, 1.900e+00, 2.780e+01,\n",
       "        3.500e+01, 2.700e+00],\n",
       "       [8.000e+00, 9.010e+01, 1.080e+02, 5.298e+02, 1.250e+01, 1.470e+01,\n",
       "        6.600e+01, 2.700e+00],\n",
       "       [8.000e+00, 9.170e+01, 1.143e+02, 6.613e+02, 6.300e+00, 1.860e+01,\n",
       "        4.400e+01, 4.500e+00],\n",
       "       [9.000e+00, 9.210e+01, 9.900e+01, 7.453e+02, 9.600e+00, 2.060e+01,\n",
       "        4.300e+01, 3.600e+00],\n",
       "       [9.000e+00, 9.150e+01, 1.301e+02, 8.071e+02, 7.500e+00, 1.680e+01,\n",
       "        4.300e+01, 3.100e+00]])"
      ]
     },
     "execution_count": 25,
     "metadata": {},
     "output_type": "execute_result"
    }
   ],
   "source": [
    "x_test"
   ]
  },
  {
   "cell_type": "code",
   "execution_count": 26,
   "id": "b6dbad53",
   "metadata": {
    "ExecuteTime": {
     "end_time": "2022-05-23T16:06:20.194314Z",
     "start_time": "2022-05-23T16:06:20.186898Z"
    }
   },
   "outputs": [],
   "source": [
    "# Passing Data from Standard scaler\n",
    "x_test = sc.transform(x_test)"
   ]
  },
  {
   "cell_type": "code",
   "execution_count": 27,
   "id": "14809620",
   "metadata": {
    "ExecuteTime": {
     "end_time": "2022-05-23T16:06:21.226453Z",
     "start_time": "2022-05-23T16:06:21.204665Z"
    }
   },
   "outputs": [
    {
     "data": {
      "text/plain": [
       "array([[0.63636364, 0.99741935, 0.56133701, ..., 0.91961415, 0.17647059,\n",
       "        0.5       ],\n",
       "       [0.72727273, 0.93290323, 0.44245348, ..., 0.53376206, 0.29411765,\n",
       "        0.2       ],\n",
       "       [0.72727273, 0.95096774, 0.36078567, ..., 0.7266881 , 0.15294118,\n",
       "        0.15555556],\n",
       "       ...,\n",
       "       [0.72727273, 0.95225806, 0.29944866, ..., 0.66237942, 0.29411765,\n",
       "        0.4       ],\n",
       "       [0.72727273, 0.95225806, 0.41660924, ..., 0.48553055, 0.35294118,\n",
       "        0.4       ],\n",
       "       [0.63636364, 0.98193548, 0.36940041, ..., 0.72025723, 0.08235294,\n",
       "        0.45555556]])"
      ]
     },
     "execution_count": 27,
     "metadata": {},
     "output_type": "execute_result"
    }
   ],
   "source": [
    "# Now the Data is in range\n",
    "x_train"
   ]
  },
  {
   "cell_type": "code",
   "execution_count": 28,
   "id": "19c5e987",
   "metadata": {
    "ExecuteTime": {
     "end_time": "2022-05-23T16:06:22.096649Z",
     "start_time": "2022-05-23T16:06:22.065354Z"
    }
   },
   "outputs": [
    {
     "data": {
      "text/plain": [
       "array([[ 0.54545455,  0.97032258,  0.58097864,  0.4728063 ,  0.21925134,\n",
       "         0.68167203,  0.29411765,  0.65555556],\n",
       "       [ 0.63636364,  0.93806452,  0.48690558,  0.69552449,  0.18894831,\n",
       "         0.5659164 ,  0.28235294,  0.55555556],\n",
       "       [ 0.81818182,  0.92      ,  0.13921433,  0.79090802,  0.15508021,\n",
       "         0.2926045 ,  0.52941176,  0.55555556],\n",
       "       [ 0.72727273,  0.9316129 ,  0.43211578,  0.79548925,  0.12477718,\n",
       "         0.40192926,  0.64705882,  0.35555556],\n",
       "       [ 0.54545455,  0.92903226,  0.27498277,  0.42170798,  0.29946524,\n",
       "         0.40514469,  0.74117647,  0.84444444],\n",
       "       [ 0.63636364,  0.92258065,  0.33011716,  0.72230706,  0.15864528,\n",
       "         0.40192926,  0.51764706,  0.6       ],\n",
       "       [ 0.27272727,  0.81548387,  0.00654721, -0.00164454,  0.06238859,\n",
       "         0.36012862,  0.70588235,  0.15555556],\n",
       "       [ 0.72727273,  0.96258065,  0.4827705 ,  0.82767532,  0.24777184,\n",
       "         0.66559486,  0.34117647,  0.55555556],\n",
       "       [ 0.63636364,  0.96      ,  0.53824948,  0.77223071,  0.24064171,\n",
       "         0.70096463,  0.24705882,  0.3       ],\n",
       "       [ 0.72727273,  0.95225806,  0.41350793,  0.7812757 ,  0.15329768,\n",
       "         0.49839228,  0.11764706,  0.3       ],\n",
       "       [ 0.72727273,  0.96258065,  0.4827705 ,  0.82767532,  0.24777184,\n",
       "         0.52733119,  0.4       ,  0.35555556],\n",
       "       [ 0.81818182,  0.94193548,  0.16333563,  0.80676612,  0.19786096,\n",
       "         0.44694534,  0.34117647,  0.4       ],\n",
       "       [ 0.09090909,  0.85806452,  0.01309442,  0.00763538,  0.11229947,\n",
       "         0.17041801,  0.36470588,  0.84444444],\n",
       "       [ 0.63636364,  0.94709677,  0.70951068,  0.77916128,  0.14616756,\n",
       "         0.79099678,  0.23529412,  0.1       ],\n",
       "       [ 0.63636364,  0.99483871,  0.51998622,  0.72218959,  0.2459893 ,\n",
       "         0.97106109,  0.07058824,  0.45555556],\n",
       "       [ 0.63636364,  0.92903226,  0.66505858,  0.74439093,  0.12121212,\n",
       "         0.61414791,  0.30588235,  0.35555556],\n",
       "       [ 0.54545455,  0.96774194,  0.34527912,  0.48643251,  0.26203209,\n",
       "         0.51446945,  0.78823529,  0.45555556],\n",
       "       [ 0.63636364,  0.92903226,  0.66505858,  0.74439093,  0.12121212,\n",
       "         0.45016077,  0.56470588,  0.25555556],\n",
       "       [ 0.18181818,  0.91096774,  0.17298415,  0.10912722,  0.17112299,\n",
       "         0.27009646,  0.36470588,  0.5       ],\n",
       "       [ 0.72727273,  0.97548387,  0.28945555,  0.80230236,  0.28342246,\n",
       "         0.76205788,  0.10588235,  0.4       ],\n",
       "       [ 0.63636364,  0.97806452,  0.47656788,  0.7985434 ,  0.35650624,\n",
       "         0.8585209 ,  0.16470588,  0.5       ],\n",
       "       [ 0.09090909,  0.87612903,  0.04169538,  0.03958651,  0.09447415,\n",
       "         0.4340836 ,  0.32941176,  0.3       ],\n",
       "       [ 1.        ,  0.84774194,  0.08993797,  0.4043228 ,  0.12121212,\n",
       "         0.08360129,  0.49411765,  0.9       ],\n",
       "       [ 0.63636364,  0.98193548,  0.76257753,  0.80970281,  0.24777184,\n",
       "         0.81350482,  0.14117647,  0.5       ],\n",
       "       [ 0.72727273,  0.94322581,  0.26671261,  0.83989193,  0.16399287,\n",
       "         0.54340836,  0.27058824,  0.25555556],\n",
       "       [ 0.63636364,  0.96516129,  0.47656788,  0.68706684,  0.36185383,\n",
       "         0.66559486,  0.18823529,  0.75555556],\n",
       "       [ 0.72727273,  0.96774194,  0.27498277,  0.79396218,  0.31907308,\n",
       "         0.67524116,  0.12941176,  0.5       ],\n",
       "       [ 0.27272727,  0.89290323,  0.08201241,  0.03794197,  0.06595365,\n",
       "         0.27974277,  0.57647059,  0.3       ],\n",
       "       [ 0.72727273,  0.94322581,  0.26671261,  0.83989193,  0.16399287,\n",
       "         0.53697749,  0.23529412,  0.25555556],\n",
       "       [ 0.72727273,  0.95612903,  0.40627154,  0.90943263,  0.13368984,\n",
       "         0.46945338,  0.15294118,  0.4       ],\n",
       "       [ 0.63636364,  0.94064516,  0.62095107,  0.70915071,  0.13547237,\n",
       "         0.7266881 ,  0.24705882,  0.4       ],\n",
       "       [ 0.72727273,  0.94064516,  0.369745  ,  0.88652649,  0.11051693,\n",
       "         0.65916399,  0.23529412,  0.2       ],\n",
       "       [ 0.63636364,  0.94709677,  0.37939352,  0.75742981,  0.17112299,\n",
       "         0.52090032,  0.35294118,  0.35555556],\n",
       "       [ 0.18181818,  0.94193548,  0.11957271,  0.08398919,  0.13903743,\n",
       "         0.47588424,  0.14117647,  0.5       ],\n",
       "       [ 0.09090909,  0.84516129,  0.01964163,  0.02032186,  0.1372549 ,\n",
       "         0.14469453,  0.75294118,  0.3       ],\n",
       "       [ 0.36363636,  0.85677419,  0.09269469,  0.12275344,  0.06238859,\n",
       "         0.2926045 ,  0.92941176,  0.5       ],\n",
       "       [ 0.63636364,  0.92258065,  0.33011716,  0.72230706,  0.15864528,\n",
       "         0.58199357,  0.28235294,  0.5       ],\n",
       "       [ 0.18181818,  0.64903226,  0.00447967,  0.00728298,  0.01247772,\n",
       "         0.48874598,  0.10588235,  0.55555556],\n",
       "       [ 0.18181818,  0.92774194,  0.16884907,  0.1070128 ,  0.13903743,\n",
       "         0.41800643,  0.18823529,  0.9       ],\n",
       "       [ 0.63636364,  0.92258065,  0.33942109,  0.73052978,  0.11229947,\n",
       "         0.61736334,  0.21176471,  0.3       ],\n",
       "       [ 0.72727273,  0.9316129 ,  0.43211578,  0.79548925,  0.12477718,\n",
       "         0.43086817,  0.6       ,  0.3       ],\n",
       "       [ 0.09090909,  0.85548387,  0.02722261,  0.05591448,  0.06238859,\n",
       "         0.25401929,  0.55294118,  0.15555556],\n",
       "       [ 0.72727273,  0.95225806,  0.29944866,  0.80970281,  0.12655971,\n",
       "         0.58199357,  0.35294118,  0.3       ],\n",
       "       [ 0.72727273,  0.97548387,  0.28945555,  0.80230236,  0.28342246,\n",
       "         0.5755627 ,  0.37647059,  0.5       ],\n",
       "       [ 0.63636364,  0.98193548,  0.36940041,  0.7492071 ,  0.3030303 ,\n",
       "         0.45659164,  0.37647059,  0.1       ],\n",
       "       [ 0.63636364,  0.94709677,  0.6095796 ,  0.70010572,  0.17112299,\n",
       "         0.67845659,  0.29411765,  0.4       ],\n",
       "       [ 0.54545455,  0.96774194,  0.34527912,  0.52801598,  0.21212121,\n",
       "         0.54983923,  0.28235294,  0.75555556],\n",
       "       [ 0.18181818,  0.92129032,  0.13301172,  0.0908023 ,  0.11051693,\n",
       "         0.27009646,  0.17647059,  0.4       ],\n",
       "       [ 0.72727273,  0.96516129,  0.51068229,  0.84494303,  0.14438503,\n",
       "         0.82315113,  0.14117647,  0.3       ],\n",
       "       [ 0.81818182,  0.92774194,  0.11819435,  0.77504992,  0.11942959,\n",
       "         0.50803859,  0.21176471,  0.05555556],\n",
       "       [ 0.63636364,  0.94064516,  0.62095107,  0.70915071,  0.13547237,\n",
       "         0.71061093,  0.21176471,  0.35555556],\n",
       "       [ 0.63636364,  0.98709677,  0.74638181,  0.79960061,  0.32085561,\n",
       "         0.83601286,  0.16470588,  0.15555556],\n",
       "       [ 0.72727273,  0.94709677,  0.33735355,  0.86456008,  0.17112299,\n",
       "         0.25401929,  0.70588235,  0.35555556],\n",
       "       [ 0.72727273,  0.96516129,  0.51068229,  0.84494303,  0.14438503,\n",
       "         0.66559486,  0.28235294,  0.5       ],\n",
       "       [ 0.72727273,  0.9483871 ,  0.34872502,  0.87184306,  0.14973262,\n",
       "         0.56270096,  0.23529412,  0.15555556],\n",
       "       [ 0.63636364,  0.92258065,  0.33942109,  0.73052978,  0.11229947,\n",
       "         0.45016077,  0.51764706,  0.3       ],\n",
       "       [ 0.72727273,  0.89290323,  0.28842178,  0.84083167,  0.06595365,\n",
       "         0.63022508,  0.22352941,  0.2       ],\n",
       "       [ 0.09090909,  0.84129032,  0.02377671,  0.02455069,  0.04634581,\n",
       "         0.33762058,  0.38823529,  0.15555556],\n",
       "       [ 0.72727273,  0.95096774,  0.36078567,  0.87959591,  0.17647059,\n",
       "         0.4437299 ,  0.35294118,  0.15555556],\n",
       "       [ 0.63636364,  0.57806452,  0.24017919,  0.77058616,  0.01426025,\n",
       "         0.47588424,  0.67058824,  0.7       ],\n",
       "       [ 0.63636364,  0.99870968,  0.62026189,  0.77751674,  0.25490196,\n",
       "         0.96784566,  0.14117647,  0.2       ],\n",
       "       [ 0.63636364,  0.94193548,  0.65575465,  0.73605075,  0.13903743,\n",
       "         0.77170418,  0.24705882,  0.45555556],\n",
       "       [ 0.63636364,  0.96      ,  0.53824948,  0.77223071,  0.24064171,\n",
       "         0.85209003,  0.15294118,  0.25555556],\n",
       "       [ 0.72727273,  0.93548387,  0.42487939,  0.92329379,  0.15151515,\n",
       "         0.62057878,  0.15294118,  0.45555556],\n",
       "       [ 0.63636364,  0.98193548,  0.36940041,  0.7492071 ,  0.3030303 ,\n",
       "         0.5755627 ,  0.29411765,  0.4       ],\n",
       "       [ 0.63636364,  0.94709677,  0.70951068,  0.77916128,  0.14616756,\n",
       "         0.60771704,  0.45882353,  0.2       ],\n",
       "       [ 0.72727273,  0.92387097,  0.99552033,  0.99377423,  0.13190731,\n",
       "         0.56913183,  0.34117647,  0.3       ],\n",
       "       [ 0.63636364,  0.9716129 ,  0.16126809,  0.10736521,  0.19073084,\n",
       "         0.48553055,  0.76470588,  0.45555556],\n",
       "       [ 0.63636364,  0.94322581,  0.59958649,  0.81216962,  0.2459893 ,\n",
       "         0.75562701,  0.28235294,  0.55555556],\n",
       "       [ 0.63636364,  0.98580645,  0.48311509,  0.70069306,  0.31550802,\n",
       "         0.59163987,  0.50588235,  0.1       ],\n",
       "       [ 0.72727273,  0.95225806,  0.29944866,  0.80970281,  0.12655971,\n",
       "         0.50160772,  0.42352941,  0.75555556],\n",
       "       [ 0.63636364,  0.98709677,  0.74638181,  0.79960061,  0.32085561,\n",
       "         0.91961415,  0.04705882,  0.45555556],\n",
       "       [ 0.72727273,  0.95225806,  0.41350793,  0.7812757 ,  0.15329768,\n",
       "         0.51446945,  0.36470588,  0.15555556],\n",
       "       [ 0.63636364,  0.8116129 ,  0.19159201,  0.77093856,  0.03386809,\n",
       "         0.82315113,  0.23529412,  0.25555556],\n",
       "       [ 0.63636364,  0.92129032,  0.36836664,  0.61141783,  0.2228164 ,\n",
       "         0.40192926,  0.6       ,  0.25555556],\n",
       "       [ 0.63636364,  0.94193548,  0.39007581,  0.76588747,  0.11229947,\n",
       "         0.52733119,  0.34117647,  0.45555556],\n",
       "       [ 0.72727273,  0.94709677,  0.33735355,  0.86456008,  0.17112299,\n",
       "         0.59163987,  0.32941176,  0.35555556],\n",
       "       [ 0.72727273,  0.93935484,  0.44452102,  0.93715494,  0.13368984,\n",
       "         0.46945338,  0.32941176,  0.3       ]])"
      ]
     },
     "execution_count": 28,
     "metadata": {},
     "output_type": "execute_result"
    }
   ],
   "source": [
    "x_test"
   ]
  },
  {
   "cell_type": "markdown",
   "id": "d168cfd5",
   "metadata": {},
   "source": [
    "# Bayes theorem\n",
    "\n",
    "* Bayes Theorem describes the probability of an event, based on prior knowledge of conditions be related of conditions to the event. So it basically fits perfectly for machine learning, because that is exactly what machine learning does: making predictions for the future based on prior experience. Mathematically you can write the Bayes theorem as following:"
   ]
  },
  {
   "cell_type": "markdown",
   "id": "d587c010",
   "metadata": {},
   "source": [
    "![formula_3](/data/Images/formula_3.jpg)\n",
    "![formula_2](/data/Images/formula_2.jpg)"
   ]
  },
  {
   "cell_type": "markdown",
   "id": "f1af29dd",
   "metadata": {},
   "source": [
    "![formula_1](/data/Images/Navie.png)"
   ]
  },
  {
   "cell_type": "code",
   "execution_count": 29,
   "id": "00b06867",
   "metadata": {
    "ExecuteTime": {
     "end_time": "2022-05-23T16:06:24.652115Z",
     "start_time": "2022-05-23T16:06:24.642248Z"
    }
   },
   "outputs": [],
   "source": [
    "# Navie Bayers \n",
    "gnb = GaussianNB()"
   ]
  },
  {
   "cell_type": "code",
   "execution_count": 30,
   "id": "2c67365d",
   "metadata": {
    "ExecuteTime": {
     "end_time": "2022-05-23T16:06:25.704935Z",
     "start_time": "2022-05-23T16:06:25.682025Z"
    }
   },
   "outputs": [],
   "source": [
    "y_pred = gnb.fit(x_train, y_train).predict(x_test)"
   ]
  },
  {
   "cell_type": "code",
   "execution_count": 31,
   "id": "0200fcaa",
   "metadata": {
    "ExecuteTime": {
     "end_time": "2022-05-23T16:06:26.112529Z",
     "start_time": "2022-05-23T16:06:26.090496Z"
    }
   },
   "outputs": [
    {
     "data": {
      "text/plain": [
       "array([0., 0., 0., 0., 0., 0., 0., 0., 1., 1., 1., 1., 1., 1., 0., 0., 1.,\n",
       "       1., 0., 0., 1., 0., 1., 1., 0., 1., 1., 1., 0., 1., 1., 1., 1., 1.,\n",
       "       0., 0., 1., 0., 1., 0., 0., 1., 0., 1., 1., 1., 1., 0., 1., 0., 1.,\n",
       "       1., 1., 1., 0., 1., 1., 0., 0., 0., 1., 1., 0., 1., 0., 0., 1., 0.,\n",
       "       1., 0., 0., 0., 1., 0., 0., 0., 1., 1.])"
      ]
     },
     "execution_count": 31,
     "metadata": {},
     "output_type": "execute_result"
    }
   ],
   "source": [
    "y_test"
   ]
  },
  {
   "cell_type": "code",
   "execution_count": 32,
   "id": "95571612",
   "metadata": {
    "ExecuteTime": {
     "end_time": "2022-05-23T16:06:28.341908Z",
     "start_time": "2022-05-23T16:06:28.320766Z"
    }
   },
   "outputs": [
    {
     "data": {
      "text/plain": [
       "array([1., 1., 1., 1., 1., 1., 0., 1., 1., 1., 1., 1., 0., 1., 1., 1., 0.,\n",
       "       1., 0., 1., 1., 0., 1., 1., 1., 1., 1., 0., 1., 1., 1., 1., 1., 0.,\n",
       "       0., 0., 1., 0., 1., 1., 1., 0., 1., 1., 1., 1., 1., 0., 1., 1., 1.,\n",
       "       1., 1., 1., 1., 1., 1., 0., 1., 0., 1., 1., 1., 1., 1., 1., 1., 0.,\n",
       "       1., 1., 1., 1., 1., 0., 1., 1., 1., 1.])"
      ]
     },
     "execution_count": 32,
     "metadata": {},
     "output_type": "execute_result"
    }
   ],
   "source": [
    "y_pred"
   ]
  },
  {
   "cell_type": "code",
   "execution_count": 33,
   "id": "d33b2568",
   "metadata": {
    "ExecuteTime": {
     "end_time": "2022-05-23T16:06:30.188045Z",
     "start_time": "2022-05-23T16:06:29.923927Z"
    }
   },
   "outputs": [
    {
     "data": {
      "text/plain": [
       "<AxesSubplot:>"
      ]
     },
     "execution_count": 33,
     "metadata": {},
     "output_type": "execute_result"
    },
    {
     "data": {
      "image/png": "[encoded data removed]",
      "text/plain": [
       "<Figure size 576x396 with 2 Axes>"
      ]
     },
     "metadata": {},
     "output_type": "display_data"
    }
   ],
   "source": [
    "cm = confusion_matrix(y_test, y_pred)\n",
    "sns.heatmap(cm, annot= True)"
   ]
  },
  {
   "cell_type": "code",
   "execution_count": 34,
   "id": "14ad773b",
   "metadata": {
    "ExecuteTime": {
     "end_time": "2022-05-23T16:06:32.911497Z",
     "start_time": "2022-05-23T16:06:32.888878Z"
    }
   },
   "outputs": [
    {
     "name": "stdout",
     "output_type": "stream",
     "text": [
      "\n",
      "True Positives(TP) =  11\n",
      "\n",
      "True Negatives(TN) =  36\n",
      "\n",
      "False Positives(FP) =  26\n",
      "\n",
      "False Negatives(FN) =  5\n"
     ]
    }
   ],
   "source": [
    "print('\\nTrue Positives(TP) = ', cm[0,0])\n",
    "\n",
    "print('\\nTrue Negatives(TN) = ', cm[1,1])\n",
    "\n",
    "print('\\nFalse Positives(FP) = ', cm[0,1])\n",
    "\n",
    "print('\\nFalse Negatives(FN) = ', cm[1,0])"
   ]
  },
  {
   "cell_type": "code",
   "execution_count": 38,
   "id": "eb761e3e",
   "metadata": {
    "ExecuteTime": {
     "end_time": "2022-05-23T16:06:55.451327Z",
     "start_time": "2022-05-23T16:06:55.435890Z"
    }
   },
   "outputs": [
    {
     "data": {
      "text/plain": [
       "0.6025641025641025"
      ]
     },
     "execution_count": 38,
     "metadata": {},
     "output_type": "execute_result"
    }
   ],
   "source": [
    "accuracy_score(y_pred, y_test)"
   ]
  },
  {
   "cell_type": "code",
   "execution_count": 39,
   "id": "3d9d9371",
   "metadata": {
    "ExecuteTime": {
     "end_time": "2022-05-23T16:06:55.751876Z",
     "start_time": "2022-05-23T16:06:55.735646Z"
    }
   },
   "outputs": [],
   "source": [
    "gnb_acc = [0.50, 0.57, 0.60, 0.59, 0.57, 0.58]\n",
    "test_size_gnb = [0.05, 0.10, 0.15, 0.20, 0.25, 0.30]"
   ]
  },
  {
   "cell_type": "code",
   "execution_count": 40,
   "id": "30b150eb",
   "metadata": {
    "ExecuteTime": {
     "end_time": "2022-05-23T16:06:56.412891Z",
     "start_time": "2022-05-23T16:06:56.181099Z"
    }
   },
   "outputs": [
    {
     "name": "stderr",
     "output_type": "stream",
     "text": [
      "C:\\Users\\saipr\\miniconda3\\lib\\site-packages\\seaborn\\_decorators.py:36: FutureWarning: Pass the following variables as keyword args: x, y. From version 0.12, the only valid positional argument will be `data`, and passing other arguments without an explicit keyword will result in an error or misinterpretation.\n",
      "  warnings.warn(\n"
     ]
    },
    {
     "data": {
      "text/plain": [
       "<AxesSubplot:>"
      ]
     },
     "execution_count": 40,
     "metadata": {},
     "output_type": "execute_result"
    },
    {
     "data": {
      "image/png": "[encoded data removed]",
      "text/plain": [
       "<Figure size 576x396 with 1 Axes>"
      ]
     },
     "metadata": {},
     "output_type": "display_data"
    }
   ],
   "source": [
    "sns.lineplot(test_size_gnb, gnb_acc, color='#27c4d9')"
   ]
  },
  {
   "cell_type": "code",
   "execution_count": null,
   "id": "bcfda3c4",
   "metadata": {},
   "outputs": [],
   "source": []
  }
 ],
 "metadata": {
  "kernelspec": {
   "display_name": "Python 3 (ipykernel)",
   "language": "python",
   "name": "python3"
  },
  "language_info": {
   "codemirror_mode": {
    "name": "ipython",
    "version": 3
   },
   "file_extension": ".py",
   "mimetype": "text/x-python",
   "name": "python",
   "nbconvert_exporter": "python",
   "pygments_lexer": "ipython3",
   "version": "3.8.10"
  },
  "latex_envs": {
   "LaTeX_envs_menu_present": true,
   "autoclose": false,
   "autocomplete": true,
   "bibliofile": "biblio.bib",
   "cite_by": "apalike",
   "current_citInitial": 1,
   "eqLabelWithNumbers": true,
   "eqNumInitial": 1,
   "hotkeys": {
    "equation": "Ctrl-E",
    "itemize": "Ctrl-I"
   },
   "labels_anchors": false,
   "latex_user_defs": false,
   "report_style_numbering": false,
   "user_envs_cfg": false
  },
  "varInspector": {
   "cols": {
    "lenName": 16,
    "lenType": 16,
    "lenVar": 40
   },
   "kernels_config": {
    "python": {
     "delete_cmd_postfix": "",
     "delete_cmd_prefix": "del ",
     "library": "var_list.py",
     "varRefreshCmd": "print(var_dic_list())"
    },
    "r": {
     "delete_cmd_postfix": ") ",
     "delete_cmd_prefix": "rm(",
     "library": "var_list.r",
     "varRefreshCmd": "cat(var_dic_list()) "
    }
   },
   "types_to_exclude": [
    "module",
    "function",
    "builtin_function_or_method",
    "instance",
    "_Feature"
   ],
   "window_display": false
  }
 },
 "nbformat": 4,
 "nbformat_minor": 5
}
